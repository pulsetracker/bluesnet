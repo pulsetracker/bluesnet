{
 "cells": [
  {
   "cell_type": "code",
   "execution_count": 3,
   "metadata": {
    "collapsed": false
   },
   "outputs": [
    {
     "name": "stderr",
     "output_type": "stream",
     "text": [
      "Using TensorFlow backend.\n"
     ]
    }
   ],
   "source": [
    "#LSTM Blues Generator\n",
    "\n",
    "import w266Final as ww\n",
    "from __future__ import print_function\n",
    "from keras.models import Sequential, load_model\n",
    "from keras.layers import Dense, Activation, Dropout\n",
    "from keras.layers import LSTM\n",
    "from keras.optimizers import RMSprop, SGD\n",
    "from keras.utils.data_utils import get_file\n",
    "from keras.callbacks import ModelCheckpoint\n",
    "import numpy as np\n",
    "import random\n",
    "import sys\n",
    "import os\n",
    "import os.path\n",
    "\n",
    "modelLoc = '/data/W266/results/OneLayer'\n",
    "filename = 'trainedModel-7.hdf5'\n",
    "model = load_model(os.path.join(modelLoc,filename))"
   ]
  },
  {
   "cell_type": "code",
   "execution_count": 104,
   "metadata": {
    "collapsed": false
   },
   "outputs": [],
   "source": [
    "import w266Final as ww\n",
    "#from __future__ import print_function\n",
    "from keras.models import Sequential, load_model\n",
    "from keras.layers import Dense, Activation, Dropout\n",
    "from keras.layers import LSTM\n",
    "from keras.optimizers import RMSprop, SGD\n",
    "from keras.utils.data_utils import get_file\n",
    "from keras.callbacks import ModelCheckpoint\n",
    "import numpy as np\n",
    "import random\n",
    "import sys\n",
    "import os\n",
    "import os.path\n",
    "\n",
    "modelLoc = '/data/W266/results/OneLayer'\n",
    "filename = 'trainedModel-8.hdf5'\n",
    "model = load_model(os.path.join(modelLoc,filename))\n",
    "\n",
    "\n",
    "def sample(preds, temperature=1.0):\n",
    "    # helper function to sample an index from a probability array\n",
    "    preds = np.asarray(preds).astype('float64')\n",
    "    preds = np.log(preds) / temperature\n",
    "    exp_preds = np.exp(preds)\n",
    "    preds = exp_preds / np.sum(exp_preds)\n",
    "    probas = np.random.multinomial(1, preds, 1)\n",
    "    return np.argmax(probas)\n",
    "\n",
    "def genBluesCharacters(n=400,diversity=0.5, seed='so long and thanks for all the fish' verbose = True):\n",
    "        \"\"\"\n",
    "        diversity in (0,1)--how much variation when generating text\n",
    "        n -- how many characters to generate\n",
    "        seed -- starting text    \n",
    "        \"\"\"\n",
    "        maxlen=100\n",
    "        chars = ['\\t', '\\n', ' ', \"'\", ',', '-', '?', '[', ']', 'a', 'b', 'c', 'd', 'e', 'f', 'g', 'h', 'i', 'j', 'k', 'l', 'm', 'n', 'o', 'p', 'q', 'r', 's', 't', 'u', 'v', 'w', 'x', 'y', 'z']\n",
    "        char_indices = dict((c, i) for i, c in enumerate(chars))\n",
    "        indices_char = dict((i, c) for i, c in enumerate(chars))\n",
    "        \n",
    "        if verbose:\n",
    "            print('\\n\\nBluesnet activated. ')\n",
    "            print('----- diversity:', diversity)\n",
    "            print('----- Generating with seed: \"' + seed + '\"')\n",
    "            print('\\n*****************************************************************\\n')\n",
    "        \n",
    "        output = seed\n",
    "        generated = ''\n",
    "        generated += seed\n",
    "        \n",
    "        if verbose:\n",
    "            sys.stdout.write(generated)\n",
    "\n",
    "        for i in range(n):\n",
    "            x = np.zeros((1, maxlen, len(chars)))\n",
    "            for t, char in enumerate(output):\n",
    "                x[0, t, char_indices[char]] = 1.\n",
    "\n",
    "            preds = model.predict(x, verbose=0)[0]\n",
    "            next_index = sample(preds, diversity)\n",
    "            next_char = indices_char[next_index]\n",
    "\n",
    "            generated += next_char\n",
    "            output = output[1:] + next_char\n",
    "\n",
    "            if verbose:\n",
    "                sys.stdout.write(next_char)\n",
    "                sys.stdout.flush()\n",
    "\n",
    "        return generated\n",
    "        \n"
   ]
  },
  {
   "cell_type": "code",
   "execution_count": 45,
   "metadata": {
    "collapsed": false
   },
   "outputs": [
    {
     "name": "stdout",
     "output_type": "stream",
     "text": [
      "1\n"
     ]
    }
   ],
   "source": [
    "#genBluesCharacters(seed='since my')\n",
    "#model.predict(np.array([1,2,3]))\n",
    "seed='so long and thanks for all the fish'\n",
    "output = seed\n",
    "generated = ''\n",
    "maxlen=100\n",
    "chars = ['\\t', '\\n', ' ', \"'\", ',', '-', '?', '[', ']', 'a', 'b', 'c', 'd', 'e', 'f', 'g', 'h', 'i', 'j', 'k', 'l', 'm', 'n', 'o', 'p', 'q', 'r', 's', 't', 'u', 'v', 'w', 'x', 'y', 'z']\n",
    "char_indices = dict((c, i) for i, c in enumerate(chars))\n",
    "indices_char = dict((i, c) for i, c in enumerate(chars))\n",
    "\n",
    "x = np.zeros((1, maxlen, len(chars)))\n",
    "for t, char in enumerate(output):\n",
    "    x[0, t, char_indices[char]] = 1.\n",
    "\n",
    "\n",
    "preds = model.predict(x, verbose=0)[0]\n",
    "next_index = sample(preds, 0.2)\n",
    "#print next_index\n",
    "next_char = indices_char[next_index]\n",
    "print next_index\n",
    "generated += next_char\n",
    "output = output[1:] + next_char"
   ]
  },
  {
   "cell_type": "code",
   "execution_count": 123,
   "metadata": {
    "collapsed": false
   },
   "outputs": [
    {
     "name": "stdout",
     "output_type": "stream",
     "text": [
      "\n",
      "\n",
      "Bluesnet activated. \n",
      "('----- diversity:', 0.5)\n",
      "----- Generating with seed: \"e lived was a microscopic dot on a microscopic dot lost in the unimaginable infinity of the universe\"\n",
      "\n",
      "*****************************************************************\n",
      "\n",
      "e lived was a microscopic dot on a microscopic dot lost in the unimaginable infinity of the universe \n",
      "\t it steal your woman to before your woman \n",
      "\t when"
     ]
    },
    {
     "name": "stderr",
     "output_type": "stream",
     "text": [
      "/data/jameshome/anaconda2/lib/python2.7/site-packages/ipykernel/__main__.py:23: RuntimeWarning: divide by zero encountered in log\n"
     ]
    },
    {
     "name": "stdout",
     "output_type": "stream",
     "text": [
      " you ain't no could leave mill\n",
      "\n",
      "i got to tell you \n",
      "\t if i can't my time a worrying sing \n",
      " i been up my baby \n",
      "\t that they always nothing to hear \n",
      "\t where the woman to that woman \n",
      "\t this town to the on me \n",
      "\t i say i can't you tell you to see \n",
      "\t i don't say to work me \n",
      "\t when i stay of good working \n",
      "\t and i was my baby \n",
      "\t of my man there \n",
      "\t but it have no more \n",
      "'ftat \n",
      "\t and i couldn't see off to care \n",
      "\t mama to change your good gal \n",
      "\t and it all the one i can see \n",
      "\t where you tell off all the time\n",
      "\n",
      "\n",
      "\n",
      "why \n",
      "\t when i see me couldn't be you been \n",
      "\t i'm going to go me time \n",
      "\t start the woman \n",
      "\t and the woman i would got a a crying \n",
      "\t baby if you going to tell you come all the ring \n",
      "\t off my woman i can sight \n",
      "\t that would see the poor morning \n",
      "\t i ain't going to see me call \n",
      "\t and the same to see \n",
      "\t i can't you like your town\n",
      "\n",
      "i was no colled your little stuff \n",
      "\t i said all the way i she want me no poople \n",
      "\t they see the fin \n",
      " they tell you going to can't come \n",
      "\t make me and the old and moon \n",
      " i be the same man \n",
      "\t and you take my way \n",
      "\t she's a woman and my time \n",
      "\t i got them man fill of my best \n",
      "\t and she stay the way \n",
      " you walk off to the right baby \n",
      "\t i can't you had of hard \n",
      "\t and the grien around me \n",
      "\t they going to keep your woman \n",
      "\t like me my can stay \n",
      " i love me there \n",
      "\t they see a woman \n",
      "\t where i got to tell you to mind\n",
      "\n",
      "i say she got a mother \n",
      "\t and do a little gone \n",
      "\t i was the day that she stay \n",
      " i would got them so \n",
      "\t some come to the same \n",
      "\t it wouldre like the prishe come the coller \n",
      "\t i got to be ain't going to see \n",
      "\t he was all the time \n",
      "\t i said baby i love of my break \n",
      "\t hidnes to know the door \n",
      "\t and you got a man \n",
      "\t i said the stuff girl please \n",
      "\t i been all the stay \n",
      " she was so man baby \n",
      "\t that i got a mind \n",
      " i got the corner \n",
      "\t and when the blues want to tell you do \n",
      "\t well i well i was all about a gal \n",
      "\t you been my stay \n",
      " i got a doors \n",
      "\t to tell you break a count \n",
      "\t as the mother worry to me \n",
      "\t i wouldn't see down \n",
      "\t he some boys a care \n",
      "\t there's to child to the little had \n",
      "\t she say i was with your baby \n",
      "\t he see off mama \n",
      "\t baby that make them way\n",
      "\n",
      "\n",
      "\n",
      "i was all the care \n",
      "\t and the blues the woman \n",
      "\t and come of this town \n",
      "\t they can't be the man \n",
      "\t but the self so to tell you something \n",
      "\t to the day i got the care \n",
      "\t but i stay to the gal \n",
      "\t and where i say all the man \n",
      "\t i was a mon i would got to be your statiant \n",
      "\t then i was the statisunged my gal \n",
      "\t when i believe me \n",
      "\t when the blues keep the blues no ride \n",
      "\t the little chice \n",
      "\t and i don't leave me to child \n",
      " i don't you been there \n",
      "\t i ain't got there \n",
      "\t i believe to be my stays \n",
      "\t i was to the man \n",
      "\t than the man to my baby \n",
      "\t but a looked this morning \n",
      "\t they give me a blue all your gal \n",
      "\t the day i got to get \n",
      "\t to tell you have to the morter \n",
      "\t blues tell me baby \n",
      "\t that give me all your stay \n",
      "\t and i tell you call the blues \n",
      "\t that's a blues i'll be down\n",
      "\n",
      "i got a moans \n",
      "\t and you was to go\n",
      "\n",
      "\n",
      "\n",
      "because my baby can me \n",
      "\t and the mama don't really \n",
      "\t they the man i let me \n",
      "\t don't know the door \n",
      "\t howely like the woman \n",
      "\t baby i don't mind the blues \n",
      "\t i when i would got them come \n",
      "\t there i won't the blues all you call \n",
      "\t my baby that i know i can't let me \n",
      "\t they trie the blues \n",
      "\t you don't won't you have to be for the with her blues \n",
      "\t well i ain't never got a train \n",
      "\t and a could brother blues all the time \n",
      "\t stay that well i got the time \n",
      "\t the blues ain't going to care \n",
      "\t that whered hur on the stay \n",
      "\t and i don't know made her toggating \n",
      "\t and i'm going to call my man \n",
      "\t they have the tor in the to engind \n",
      "\t the time i do the little stay \n",
      "\t when i got to see \n",
      "\t but i going to know i can't you say \n",
      "\t some friend i can't see \n",
      " i got a fool to come \n",
      "\t and you can want to be off \n",
      "\t my baby and the boor \n",
      "\t i don't see my corner \n",
      "\t i was the boy and right to the down \n",
      "\t blues to my town \n",
      " care i can't stay \n",
      "\t and come in the door \n",
      "\t to like the stay \n",
      "\t that baby i tell you all the morning \n",
      "\t and you done have to the tornte \n",
      "\t and i been something a more it \n",
      "\t she got a think \n",
      "\t i got a sweet the mouse blues \n",
      "\t the streats me down in the blues \n",
      "\t because you been my baby \n",
      "\t and i can love me here this town \n",
      "\t there's a i got to change \n",
      "\t honey she call the mare \n",
      "\t and i got to see my could \n",
      " there't care \n",
      "\t that they have me to do \n",
      "\t she wouldn't go past the tornt \n",
      "\t blues all the blues i don't go \n",
      "\t and the blues to see me down\n",
      "\n",
      "\n",
      "\n",
      "i was a blues the hearted \n",
      "\t i'm going to get the sing me \n",
      "\t and there's a like and your will all the blue \n",
      "\t every play my stating the woman \n",
      "\t come to the to to stay \n",
      " i tell you down \n",
      "\t and i don't see me the blues \n",
      "\t i can't you take me to my call \n",
      "\t i got a care i was a way and to \n",
      "\t and i can't do for the stop \n",
      "\t and if you got out him to the way \n",
      "\t to get me \n",
      "\t and start to see your couse man \n",
      "\t where i was the time the ride \n",
      "\t baby i get a man well i see you to craye\n",
      "\n",
      "i'm going to see \n",
      "\t don't know i scrow your old money \n",
      "\t he want me a little going to sear the torged \n",
      "\t going to get a from the street \n",
      "\t i was the stumble of my with the tate \n",
      "\t they the time i got a mon i been around\n",
      "\n",
      "they be the woman \n",
      "\t when i got off the cold \n",
      " but i have no morh a catch me \n",
      "\t i got a days i'll be down \n",
      "\t that's the stay \n",
      "\t i would got a money break a little gone \n",
      "\t and i want to see me \n",
      "\t and i have no more the blues \n",
      "\t i'll keep me the time \n",
      "\t i don't have no morher so a down\n",
      "\n",
      "stay the come of this cowling to the other blue \n",
      "\t they bed off the door \n",
      "\t i was the nothing a mon the man \n",
      "\t i was a blues to my can all night \n",
      "\t that i was all stop \n",
      "\t have to know in the for the woman \n",
      "\t when i was a grave \n",
      "\t i don't bring the black brother \n",
      "\t my get it all the stay \n",
      "\t the come to the time\n",
      "\n",
      "\n",
      "\n",
      "i can come my woman \n",
      "\t and the tall all the blues \n",
      "\t that i can't see the papa \n",
      "\t then she ain't no blue \n",
      "\t but i got a morning \n",
      "\t they got a more i give me to be me \n",
      "\t off my little bed you can change \n",
      "\t man don't want to tell me \n",
      "\t i got a could the door \n",
      " there \n",
      "\t he walking i make me to mill \n",
      "\t and do me and hear me in the prays \n",
      "\t i can never never get to tell me \n",
      "\t i would read the day \n",
      "\t from a baby when you want me \n",
      "\t how blues well i got a cold just \n",
      "\t i'll be down me of good tor to you \n",
      "\t they so to the stay \n",
      "\t she stock a come a good day \n",
      "\t where the gal and from the strave \n",
      "\t down my man when the blue \n",
      "\t that your could do \n",
      " there's got a man \n",
      "\t they don't blue going to be a time \n",
      "\t i got something the mama \n",
      "\t and you really i was farl \n",
      "\t i got a mine a best off \n",
      " she littmeffishain i got the same \n",
      "\t i can't change that see \n",
      "\t when the right the moan \n",
      "\t from the people so to take them kill \n",
      "\t and it sleep the work \n",
      "\t that i got no more you want me \n",
      "\t and it always here all the more \n",
      " i got a mon the more it care \n",
      "\t to my bock whiskey \n",
      "\t well i give me the poor born \n",
      "\t the stay the man work \n",
      " and you got a money \n",
      "\t there's all you hear the woman \n",
      "\t they long off it all the time \n",
      "\t and she got a train this town \n",
      "\t like m"
     ]
    }
   ],
   "source": [
    "words='He was wrong to think he could now forget that the big, hard, oily, dirty, rainbow-hung Earth on which he lived was a microscopic dot on a microscopic dot lost in the unimaginable infinity of the Universe'.lower() \n",
    "song = genBluesCharacters(n= 7000, diversity = 0.5,seed=words[-100:])\n",
    "\n"
   ]
  },
  {
   "cell_type": "code",
   "execution_count": 125,
   "metadata": {
    "collapsed": false
   },
   "outputs": [
    {
     "ename": "NameError",
     "evalue": "name 'bluesStanza' is not defined",
     "output_type": "error",
     "traceback": [
      "\u001b[1;31m\u001b[0m",
      "\u001b[1;31mNameError\u001b[0mTraceback (most recent call last)",
      "\u001b[1;32m<ipython-input-125-3969bf6f67ba>\u001b[0m in \u001b[0;36m<module>\u001b[1;34m()\u001b[0m\n\u001b[1;32m----> 1\u001b[1;33m \u001b[0mdd\u001b[0m\u001b[1;33m=\u001b[0m\u001b[0mbluesStanza\u001b[0m\u001b[1;33m(\u001b[0m\u001b[1;33m)\u001b[0m\u001b[1;33m\u001b[0m\u001b[0m\n\u001b[0m\u001b[0;32m      2\u001b[0m \u001b[0mdd\u001b[0m\u001b[1;33m.\u001b[0m\u001b[0mline1\u001b[0m \u001b[1;33m=\u001b[0m \u001b[1;34m\"and i couldn't see off to care\"\u001b[0m\u001b[1;33m\u001b[0m\u001b[0m\n\u001b[0;32m      3\u001b[0m \u001b[0mdd\u001b[0m\u001b[1;33m.\u001b[0m\u001b[0mline2\u001b[0m \u001b[1;33m=\u001b[0m \u001b[1;34m\"mama to change your good gal\"\u001b[0m\u001b[1;33m\u001b[0m\u001b[0m\n\u001b[0;32m      4\u001b[0m \u001b[0mdd\u001b[0m\u001b[1;33m.\u001b[0m\u001b[0mline3\u001b[0m \u001b[1;33m=\u001b[0m \u001b[1;34m\"and it all the one i can see\"\u001b[0m\u001b[1;33m\u001b[0m\u001b[0m\n\u001b[0;32m      5\u001b[0m \u001b[0mdd\u001b[0m\u001b[1;33m.\u001b[0m\u001b[0mline4\u001b[0m \u001b[1;33m=\u001b[0m \u001b[1;34m\"where you tell off all the time\"\u001b[0m\u001b[1;33m\u001b[0m\u001b[0m\n",
      "\u001b[1;31mNameError\u001b[0m: name 'bluesStanza' is not defined"
     ]
    }
   ],
   "source": [
    "dd=bluesStanza() \n",
    "dd.line1 = \"and i couldn't see off to care\"\n",
    "dd.line2 = \"mama to change your good gal\"\n",
    "dd.line3 = \"and it all the one i can see\"\n",
    "dd.line4 = \"where you tell off all the time\""
   ]
  },
  {
   "cell_type": "code",
   "execution_count": 59,
   "metadata": {
    "collapsed": false
   },
   "outputs": [],
   "source": []
  },
  {
   "cell_type": "code",
   "execution_count": null,
   "metadata": {
    "collapsed": false
   },
   "outputs": [],
   "source": []
  },
  {
   "cell_type": "code",
   "execution_count": null,
   "metadata": {
    "collapsed": false
   },
   "outputs": [],
   "source": []
  },
  {
   "cell_type": "code",
   "execution_count": null,
   "metadata": {
    "collapsed": false
   },
   "outputs": [],
   "source": []
  },
  {
   "cell_type": "code",
   "execution_count": null,
   "metadata": {
    "collapsed": false
   },
   "outputs": [],
   "source": []
  },
  {
   "cell_type": "code",
   "execution_count": null,
   "metadata": {
    "collapsed": false
   },
   "outputs": [],
   "source": []
  },
  {
   "cell_type": "code",
   "execution_count": 121,
   "metadata": {
    "collapsed": false
   },
   "outputs": [
    {
     "name": "stdout",
     "output_type": "stream",
     "text": [
      "\n",
      "\n",
      "Bluesnet activated. \n",
      "('----- diversity:', 0.6)\n",
      "----- Generating with seed: \"he lived was a microscopic dot on a microscopic dot lost in the unimaginable infinity of the univers\"\n",
      "\n",
      "*****************************************************************\n",
      "\n",
      "he lived was a microscopic dot on a microscopic dot lost in the unimaginable infinity of the universe \n",
      "\t the pass nothing mind\n",
      "\n",
      "\n",
      "\n",
      "and it see \n",
      "\t of my could the best to me \n",
      "\t and i can't be all so \n",
      " when you can't see a girl \n",
      "\t where a mare that mama \n",
      "\t i was his door it \n",
      "\t that she see the off and be\n",
      "\n",
      "\n",
      "\n",
      "i walk home \n",
      "\t me and me\n",
      "\n",
      "they baby i got a little i see \n",
      "\t i'm going to see me of be \n",
      " s"
     ]
    },
    {
     "name": "stderr",
     "output_type": "stream",
     "text": [
      "/data/jameshome/anaconda2/lib/python2.7/site-packages/ipykernel/__main__.py:23: RuntimeWarning: divide by zero encountered in log\n"
     ]
    },
    {
     "name": "stdout",
     "output_type": "stream",
     "text": [
      "aiy they calling \n",
      "\t and the time i don't know rooked to time \n",
      "\t that's the way \n",
      " going to get \n",
      "\t and and i got the right \n",
      "\t i got to love me \n",
      "\t this home to the girl \n",
      "\t and i believe to know and like the blues \n",
      "\t i said poor mind \n",
      " i'm going to be the good mean\n",
      "\n",
      "\n",
      "\n",
      "oh the i baby \n",
      "\t some will town they work \n",
      "\t they think and when you mine it change\n",
      "\n",
      "i'm going to get away \n",
      "\t can me late these boat \n",
      "\t mama "
     ]
    }
   ],
   "source": [
    "song =''\n",
    "song += genBluesCharacters(n= 700, diversity = 0.6,seed=words[103:203])"
   ]
  },
  {
   "cell_type": "code",
   "execution_count": 95,
   "metadata": {
    "collapsed": false
   },
   "outputs": [],
   "source": [
    "#genBluesCharacters(n= 7000, diversity = 0.6,seed=words[-100:])\n",
    "#s = 'so long and thanks for all the fish'\n",
    "s = 'what is your name'\n",
    "s=' '*(100-len(s))+s"
   ]
  },
  {
   "cell_type": "code",
   "execution_count": 96,
   "metadata": {
    "collapsed": false
   },
   "outputs": [
    {
     "name": "stdout",
     "output_type": "stream",
     "text": [
      "                                                                                   what is your name\n"
     ]
    }
   ],
   "source": [
    "print s\n"
   ]
  },
  {
   "cell_type": "code",
   "execution_count": 122,
   "metadata": {
    "collapsed": false
   },
   "outputs": [
    {
     "name": "stdout",
     "output_type": "stream",
     "text": [
      "\n",
      "\n",
      "Bluesnet activated. \n",
      "('----- diversity:', 0.67)\n",
      "----- Generating with seed: \"                                                                                   what is your name\"\n",
      "\n",
      "*****************************************************************\n",
      "\n",
      "                                                                                   what is your name \n",
      "\t know i take me a buy kill of the mama \n",
      "\t if you says i say and i have no more \n",
      "'ft the blue \n",
      "\t will "
     ]
    },
    {
     "name": "stderr",
     "output_type": "stream",
     "text": [
      "/data/jameshome/anaconda2/lib/python2.7/site-packages/ipykernel/__main__.py:23: RuntimeWarning: divide by zero encountered in log\n"
     ]
    },
    {
     "name": "stdout",
     "output_type": "stream",
     "text": [
      "don't couldn't you tell me \n",
      "\t to believe the blue \n",
      " now my blues mean \n",
      "\t don't want to talk to the more more you boys \n",
      "\t she can't you all the doors you was woman \n",
      "\t and look no hard me down \n",
      "\t and the money to call mama \n",
      "\t going to call the one to mama \n",
      "\t i got a pooce for \n",
      " babe \n",
      "\t he stop to change your station \n",
      "\t think you ain't a call your woman \n",
      "\t of long care \n",
      "\t in the down\n",
      "\n",
      "i'm going to be off \n",
      "\t when you bettle chater are had \n",
      "\t the blue take your woman i walk \n",
      "\t i can't stay\n",
      "\n",
      " now it been grind the fite \n",
      "\t whiskey i'll be all stop the man \n",
      "\t of the man's all the redyill \n",
      "\t i'll t"
     ]
    },
    {
     "data": {
      "text/plain": [
       "\"                                                                                   what is your name \\n\\t know i take me a buy kill of the mama \\n\\t if you says i say and i have no more \\n'ft the blue \\n\\t will don't couldn't you tell me \\n\\t to believe the blue \\n now my blues mean \\n\\t don't want to talk to the more more you boys \\n\\t she can't you all the doors you was woman \\n\\t and look no hard me down \\n\\t and the money to call mama \\n\\t going to call the one to mama \\n\\t i got a pooce for \\n babe \\n\\t he stop to change your station \\n\\t think you ain't a call your woman \\n\\t of long care \\n\\t in the down\\n\\ni'm going to be off \\n\\t when you bettle chater are had \\n\\t the blue take your woman i walk \\n\\t i can't stay\\n\\n now it been grind the fite \\n\\t whiskey i'll be all stop the man \\n\\t of the man's all the redyill \\n\\t i'll t\""
      ]
     },
     "execution_count": 122,
     "metadata": {},
     "output_type": "execute_result"
    }
   ],
   "source": [
    "genBluesCharacters(n= 700, diversity = 0.67,seed=s)"
   ]
  },
  {
   "cell_type": "code",
   "execution_count": null,
   "metadata": {
    "collapsed": true
   },
   "outputs": [],
   "source": [
    "text"
   ]
  },
  {
   "cell_type": "code",
   "execution_count": null,
   "metadata": {
    "collapsed": true
   },
   "outputs": [],
   "source": []
  }
 ],
 "metadata": {
  "kernelspec": {
   "display_name": "Python [Root]",
   "language": "python",
   "name": "Python [Root]"
  },
  "language_info": {
   "codemirror_mode": {
    "name": "ipython",
    "version": 2
   },
   "file_extension": ".py",
   "mimetype": "text/x-python",
   "name": "python",
   "nbconvert_exporter": "python",
   "pygments_lexer": "ipython2",
   "version": "2.7.12"
  }
 },
 "nbformat": 4,
 "nbformat_minor": 0
}
