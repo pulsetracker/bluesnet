{
 "cells": [
  {
   "cell_type": "code",
   "execution_count": 11,
   "metadata": {
    "collapsed": false,
    "scrolled": false
   },
   "outputs": [
    {
     "ename": "AttributeError",
     "evalue": "'module' object has no attribute 'bluesStanza'",
     "output_type": "error",
     "traceback": [
      "\u001b[1;31m\u001b[0m",
      "\u001b[1;31mAttributeError\u001b[0mTraceback (most recent call last)",
      "\u001b[1;32m<ipython-input-11-c1eb1aa36a7d>\u001b[0m in \u001b[0;36m<module>\u001b[1;34m()\u001b[0m\n\u001b[0;32m      4\u001b[0m \u001b[1;32mfor\u001b[0m \u001b[0mii\u001b[0m \u001b[1;32min\u001b[0m \u001b[0mrange\u001b[0m\u001b[1;33m(\u001b[0m\u001b[1;36m30\u001b[0m\u001b[1;33m)\u001b[0m\u001b[1;33m:\u001b[0m\u001b[1;33m\u001b[0m\u001b[0m\n\u001b[0;32m      5\u001b[0m     \u001b[1;31m#try:\u001b[0m\u001b[1;33m\u001b[0m\u001b[1;33m\u001b[0m\u001b[0m\n\u001b[1;32m----> 6\u001b[1;33m     \u001b[0mcc\u001b[0m\u001b[1;33m=\u001b[0m\u001b[0mw266Final\u001b[0m\u001b[1;33m.\u001b[0m\u001b[0mbluesStanza\u001b[0m\u001b[1;33m(\u001b[0m\u001b[1;33m)\u001b[0m\u001b[1;33m\u001b[0m\u001b[0m\n\u001b[0m\u001b[0;32m      7\u001b[0m     \u001b[0mcc\u001b[0m\u001b[1;33m.\u001b[0m\u001b[0mgenStanza\u001b[0m\u001b[1;33m(\u001b[0m\u001b[1;33m)\u001b[0m\u001b[1;33m\u001b[0m\u001b[0m\n\u001b[0;32m      8\u001b[0m     \u001b[1;32mprint\u001b[0m \u001b[1;34m'\\n\\n****************************************'\u001b[0m\u001b[1;33m\u001b[0m\u001b[0m\n",
      "\u001b[1;31mAttributeError\u001b[0m: 'module' object has no attribute 'bluesStanza'"
     ]
    }
   ],
   "source": [
    "import w266Final\n",
    "#reload(w266Final)\n",
    "\n",
    "for ii in range(30):\n",
    "    #try:\n",
    "    cc=w266Final.bluesStanza()\n",
    "    cc.genStanza()\n",
    "    print '\\n\\n****************************************'\n",
    "    print '\\n\\n', cc\n",
    "    #except:\n",
    "        #ii=ii-1\n",
    "        \n",
    "#cc=w266Final.bluesStanza()\n",
    "#cc.genStanza()\n",
    "#print cc"
   ]
  },
  {
   "cell_type": "code",
   "execution_count": 12,
   "metadata": {
    "collapsed": false
   },
   "outputs": [
    {
     "ename": "SyntaxError",
     "evalue": "invalid syntax (<ipython-input-12-a1181c80e56b>, line 1)",
     "output_type": "error",
     "traceback": [
      "\u001b[1;36m  File \u001b[1;32m\"<ipython-input-12-a1181c80e56b>\"\u001b[1;36m, line \u001b[1;32m1\u001b[0m\n\u001b[1;33m    good well the blue ghost has\u001b[0m\n\u001b[1;37m            ^\u001b[0m\n\u001b[1;31mSyntaxError\u001b[0m\u001b[1;31m:\u001b[0m invalid syntax\n"
     ]
    }
   ],
   "source": [
    "good well the blue ghost has\n",
    "\t\tgot your lips painted red\n",
    "then come on out of my\n",
    "\t\tback fence i'm going bed\n",
    "    \n",
    "\n",
    "    lying said said stay home\n",
    "\t\tnow when a man he has\n",
    "me almost crazy as\n",
    "\t\ta bluebird flies in jazz\n",
    "    \n",
    "    day washed treated boy man\n",
    "\t\tyou wonder what to do\n",
    "just as sweet as she can\n",
    "\t\tspend my change going to\n",
    "    \n",
    "i go because i'm coming\n",
    "\t\tback no more now there's a\n",
    "delta bottom woman\n",
    "\t\twho tries making up pay\n",
    "    \n",
    "going holler vine the\n",
    "\t\tblues must be nashville bound\n",
    "some got both aces i\n",
    "\t\tknow about this hound\n",
    "\n",
    "trip one is nine mama\n",
    "\t\tnine and it's never been\n",
    "before once i had a\n",
    "\t\tgal in tennessee gin\n",
    "    \n",
    "run all over this country\n",
    "\t\tevery kind of strange\n",
    "get you told me and some\n",
    "\t\tother man too now change\n",
    "    \n",
    "away there ain't going\n",
    "\t\tto the then if you didn't\n",
    "like a woman raises\n",
    "\t\thell now i'd rather forbidden\n",
    "\n",
    " you riding by he brays\n",
    "\t\tthe sea going to move\n",
    "like tomorrow look half\n",
    "\t\tpast nine coaches long groove   \n",
    "\n",
    "do better so that mountain\n",
    "\t\tand i'll drop my backbone\n",
    "trying to that love my\n",
    "\t\tlittle girl drinks shoe telephone\n",
    "    \n",
    "it night and my baby\n",
    "\t\tyou too tired some other\n",
    "bullcow ooo in a\n",
    "\t\tlowdown dirty mother\n",
    "    \n",
    "Type 3.\n",
    "\n",
    "\n",
    "\n",
    "\n",
    "drive what takes to make it\n",
    "\t\tcrack the sound of a no\n",
    "good mr whiskey but\n",
    "\t\ti'm crazy about so\n",
    "\n",
    "\n",
    "treatment him down in black\n",
    "\t\tbottom women gal ain't\n",
    "going to place i go\n",
    "\t\tback to that red hot paint\n",
    "\n",
    "\n",
    "a i just walked end to\n",
    "\t\tend i can do my driving\n",
    "they began to cry no\n",
    "\t\tmore i'm a leaving diving\n",
    "\n",
    "    \n",
    "this knows all answers ain't\n",
    "\t\tgot nothing on the old\n",
    "cats coughed and the cows going\n",
    "\t\tto give me my best cold\n",
    "    \n",
    "makes women at your door\n",
    "\t\tmay be happy if i\n",
    "could the north wind has begin\n",
    "\t\thowling and the blind eye\n",
    "    \n",
    "no back to the station\n",
    "\t\tin a dive house dance blues\n",
    "i'm going to get to\n",
    "\t\thighway forty nine lose    \n",
    "\n",
    "go shetland man already\n",
    "\t\ttrained just get all your might\n",
    "and swear that you were a\n",
    "\t\tcheater i won't be right\n",
    "\n",
    " of all on account\n",
    "\t\tof taking one bite threw\n",
    "the teacup at my door\n",
    "\t\tbut i can't get true\n",
    "\n",
    "    \n",
    "hands they'll hang me sure can't\n",
    "\t\tread a note but he's always\n",
    "barking at the railroad\n",
    "\t\tand looked down in mores\n",
    "    \n",
    "    \n",
    "*****\n",
    "\n",
    "So I was born \n",
    "   in nineteen hundred and cold\n",
    "\n",
    "I'm going back to the station\n",
    "\t\tin a dive house dance blues\n",
    "and i'm going to get there\n",
    "\t\twith highway forty nine shoes\n",
    "\n",
    "go and holler the vine \n",
    "\t\tmy blues are nashville bound\n",
    "i got both red aces\n",
    "\t\tand some whiskey I found\n",
    "    \n",
    "when i can sit \n",
    "  and ponder the world \n",
    "i think that i might be poor\n",
    "    but my bullet's my word\n",
    "\n"
   ]
  },
  {
   "cell_type": "code",
   "execution_count": 310,
   "metadata": {
    "collapsed": false
   },
   "outputs": [
    {
     "data": {
      "text/plain": [
       "[u'ahold',\n",
       " u'behold',\n",
       " u'bold',\n",
       " u'bowled',\n",
       " u'cajoled',\n",
       " u'consoled',\n",
       " u'controlled',\n",
       " u'decontrolled',\n",
       " u'dold',\n",
       " u'doled',\n",
       " u'enfold',\n",
       " u'enrolled',\n",
       " u'extolled',\n",
       " u'fold',\n",
       " u'foretold',\n",
       " u'fourfold',\n",
       " u'gold',\n",
       " u'golde',\n",
       " u'hold',\n",
       " u'holde',\n",
       " u'holed',\n",
       " u'machold',\n",
       " u'mold',\n",
       " u'mould',\n",
       " u'nold',\n",
       " u'nolde',\n",
       " u'old',\n",
       " u'olde',\n",
       " u'outsold',\n",
       " u'oversold',\n",
       " u'paroled',\n",
       " u'patrolled',\n",
       " u'polled',\n",
       " u'remold',\n",
       " u'resold',\n",
       " u'roald',\n",
       " u'rolled',\n",
       " u'scold',\n",
       " u'sold',\n",
       " u'strolled',\n",
       " u'told',\n",
       " u'tolled',\n",
       " u'twofold',\n",
       " u'uncontrolled',\n",
       " u'undersold',\n",
       " u'unfold',\n",
       " u'unrolled',\n",
       " u'unsold',\n",
       " u'untold',\n",
       " u'uphold',\n",
       " u'vold',\n",
       " u'withhold',\n",
       " u'wold']"
      ]
     },
     "execution_count": 310,
     "metadata": {},
     "output_type": "execute_result"
    }
   ],
   "source": [
    "\n",
    "pronouncing.rhymes('cold')"
   ]
  },
  {
   "cell_type": "code",
   "execution_count": 12,
   "metadata": {
    "collapsed": false
   },
   "outputs": [],
   "source": [
    "reload(w266Final)\n",
    "cc = w266Final.bluesStanza()"
   ]
  },
  {
   "cell_type": "code",
   "execution_count": 60,
   "metadata": {
    "collapsed": false
   },
   "outputs": [
    {
     "data": {
      "text/plain": [
       "4"
      ]
     },
     "execution_count": 60,
     "metadata": {},
     "output_type": "execute_result"
    }
   ],
   "source": [
    "import pronouncing\n",
    "phones = pronouncing.phones_for_word(\"literally\")\n",
    "pronouncing.syllable_count(phones[0])"
   ]
  },
  {
   "cell_type": "code",
   "execution_count": 13,
   "metadata": {
    "collapsed": false
   },
   "outputs": [
    {
     "data": {
      "text/plain": [
       "[[None, None, None, None, None],\n",
       " [None, None, None, None, None],\n",
       " [None, None, None, None, None],\n",
       " [None, None, None, None, None]]"
      ]
     },
     "execution_count": 13,
     "metadata": {},
     "output_type": "execute_result"
    }
   ],
   "source": [
    "[[w266Final.getNumSyllables(ns.split()) ] ]"
   ]
  },
  {
   "cell_type": "code",
   "execution_count": null,
   "metadata": {
    "collapsed": false
   },
   "outputs": [],
   "source": [
    "s = []\n",
    "for word in cc.words:\n",
    "    try: \n",
    "        #print word, w266Final.getNumSyllables(word)\n",
    "        s.append(w266Final.getNumSyllables(word))\n",
    "    except:\n",
    "        print 'boo'"
   ]
  },
  {
   "cell_type": "code",
   "execution_count": 25,
   "metadata": {
    "collapsed": false,
    "scrolled": true
   },
   "outputs": [
    {
     "name": "stdout",
     "output_type": "stream",
     "text": [
      "......"
     ]
    },
    {
     "data": {
      "text/plain": [
       "(array([  18.,  212.,  357.,  890.,  283.,  224.,   48.,    4.,    5.,    2.]),\n",
       " array([  1. ,   2.6,   4.2,   5.8,   7.4,   9. ,  10.6,  12.2,  13.8,\n",
       "         15.4,  17. ]),\n",
       " <a list of 10 Patch objects>)"
      ]
     },
     "execution_count": 25,
     "metadata": {},
     "output_type": "execute_result"
    },
    {
     "name": "stdout",
     "output_type": "stream",
     "text": [
      "\n"
     ]
    },
    {
     "data": {
      "image/png": "[encoded data removed]",
      "text/plain": [
       "<matplotlib.figure.Figure at 0x7f84cee04c50>"
      ]
     },
     "metadata": {},
     "output_type": "display_data"
    }
   ],
   "source": [
    "import numpy as np\n",
    "sylist = []\n",
    "\n",
    "subset=random.sample(cc.bluesSongs,100)\n",
    "\n",
    "for song in subset:\n",
    "    for sz in song.stanzas:\n",
    "        for ns in sz.split(':'):\n",
    "            print '\\r', '.'*random.randint(0,10),\n",
    "            thisSylCount = np.nansum([w266Final.getNumSyllables(w) if w266Final.getNumSyllables(w) is not None else np.nan for w in ns.split()])\n",
    "            if thisSylCount >= 1:\n",
    "                sylist.append(thisSylCount)\n",
    "    #        for w in ns.split():\n",
    "    #            print w266Final.getNumSyllables(w)\n",
    "%matplotlib inline\n",
    "plt.hist(sylist)"
   ]
  },
  {
   "cell_type": "code",
   "execution_count": 33,
   "metadata": {
    "collapsed": false
   },
   "outputs": [
    {
     "data": {
      "text/plain": [
       "<matplotlib.text.Text at 0x7f84ce8942d0>"
      ]
     },
     "execution_count": 33,
     "metadata": {},
     "output_type": "execute_result"
    },
    {
     "data": {
      "image/png": "[encoded data removed]",
      "text/plain": [
       "<matplotlib.figure.Figure at 0x7f84ce7f7250>"
      ]
     },
     "metadata": {},
     "output_type": "display_data"
    }
   ],
   "source": [
    "plt.hist(sylist,17)\n",
    "plt.title(\"Syllables per Line \\n in 100 Randomly Selected Songs\")\n",
    "plt.xlabel(\"Number of Syllables\")\n",
    "plt.ylabel(\"Count\")"
   ]
  },
  {
   "cell_type": "code",
   "execution_count": 17,
   "metadata": {
    "collapsed": false
   },
   "outputs": [],
   "source": [
    "import pylab as plt"
   ]
  },
  {
   "cell_type": "code",
   "execution_count": 35,
   "metadata": {
    "collapsed": false
   },
   "outputs": [
    {
     "data": {
      "text/plain": [
       "2091"
      ]
     },
     "execution_count": 35,
     "metadata": {},
     "output_type": "execute_result"
    }
   ],
   "source": [
    "len(cc.bluesSongs)"
   ]
  },
  {
   "cell_type": "code",
   "execution_count": 3,
   "metadata": {
    "collapsed": true
   },
   "outputs": [],
   "source": [
    "import random\n",
    "subset=random.sample(cc.bluesSongs,100)\n"
   ]
  },
  {
   "cell_type": "code",
   "execution_count": 4,
   "metadata": {
    "collapsed": false
   },
   "outputs": [
    {
     "data": {
      "text/plain": [
       "100"
      ]
     },
     "execution_count": 4,
     "metadata": {},
     "output_type": "execute_result"
    }
   ],
   "source": [
    "len(subset)"
   ]
  },
  {
   "cell_type": "code",
   "execution_count": 62,
   "metadata": {
    "collapsed": false
   },
   "outputs": [
    {
     "name": "stdout",
     "output_type": "stream",
     "text": [
      "\n",
      "now tell me \n",
      "\t where my easy rider's gone \n",
      " now easy riding woman \n",
      "\t always in the wrong\n",
      "\n",
      "well easy rider \n",
      "\t died on the road \n",
      " i'm a poor blind man \n",
      "\t ain't got nowhere to go\n",
      "\n",
      "it's going to be the time \n",
      "\t that a woman don't need no man \n",
      " then baby shut your mouth \n",
      "\t and don't be raising sand\n",
      "\n",
      "the train i ride \n",
      "\t don't burn no coal at all \n",
      " the coal i'm burning \n",
      "\t everybody says it's cannonballs\n",
      "\n",
      "i mean i went to the depot \n",
      "\t and set my suitcase down \n",
      " the blues overtake me \n",
      "\t and tears come rolling down\n",
      "\n",
      "the woman i love \n",
      "\t she must be out of town \n",
      " she left me this morning \n",
      "\t with a face that's full of frowns\n",
      "\n",
      "i got a gal across town \n",
      "\t she crochets all the time \n",
      " baby if you don't quit crocheting \n",
      "\t you going to lose your mind\n",
      "\n",
      "said fair brown \n",
      "\t what's the matter now \n",
      " you turn your back to quit me \n",
      "\t woman and you don't know how\n",
      "\n",
      "\n"
     ]
    }
   ],
   "source": [
    "print random.choice(cc.bluesSongs)\n"
   ]
  },
  {
   "cell_type": "code",
   "execution_count": 66,
   "metadata": {
    "collapsed": false
   },
   "outputs": [
    {
     "data": {
      "text/plain": [
       "['__class__',\n",
       " '__delattr__',\n",
       " '__dict__',\n",
       " '__doc__',\n",
       " '__format__',\n",
       " '__getattribute__',\n",
       " '__hash__',\n",
       " '__init__',\n",
       " '__module__',\n",
       " '__new__',\n",
       " '__reduce__',\n",
       " '__reduce_ex__',\n",
       " '__repr__',\n",
       " '__setattr__',\n",
       " '__sizeof__',\n",
       " '__str__',\n",
       " '__subclasshook__',\n",
       " '__weakref__',\n",
       " 'bluesRhyme',\n",
       " 'bluesSongs',\n",
       " 'bluesUnigramProbs',\n",
       " 'countNumberOfSyllablesPerLine',\n",
       " 'forceRhyme',\n",
       " 'genLine',\n",
       " 'genStanza',\n",
       " 'genTrigramModel',\n",
       " 'getBluesWords',\n",
       " 'line1',\n",
       " 'line2',\n",
       " 'line3',\n",
       " 'line4',\n",
       " 'pd',\n",
       " 'pickledSongsLoc',\n",
       " 'seedWords',\n",
       " 'startContext',\n",
       " 'words']"
      ]
     },
     "execution_count": 66,
     "metadata": {},
     "output_type": "execute_result"
    }
   ],
   "source": [
    "dir(cc)"
   ]
  },
  {
   "cell_type": "code",
   "execution_count": 297,
   "metadata": {
    "collapsed": false
   },
   "outputs": [
    {
     "name": "stdout",
     "output_type": "stream",
     "text": [
      "Rhyming word not found...  Returning original line 4.\n",
      "cry it's getting so ragged\n",
      "\t\ti ain't got no man to\n",
      "bring my boots on took me\n",
      "\t\tback everything i could\n",
      "Rhyming word not found...  Returning original line 4.\n",
      "too was world feel look lay\n",
      "\t\tyou know these here women\n",
      "break your neck a trying\n",
      "\t\telsie is sweetest girl\n",
      "Rhyming word not found...  Returning original line 4.\n",
      "holler and he said please\n",
      "\t\tsit here and gone now easy\n",
      "riding goes on when you\n",
      "\t\tsee two women stays on\n"
     ]
    }
   ],
   "source": [
    "#import w266Final\n",
    "reload(w266Final)\n",
    "for ii in range(3):\n",
    "    cc=w266Final.bluesStanza()\n",
    "    cc.genStanza()\n",
    "    print cc\n"
   ]
  },
  {
   "cell_type": "code",
   "execution_count": 90,
   "metadata": {
    "collapsed": false
   },
   "outputs": [
    {
     "name": "stdout",
     "output_type": "stream",
     "text": [
      "Help on package nltk.tokenize in nltk:\n",
      "\n",
      "NAME\n",
      "    nltk.tokenize - NLTK Tokenizer Package\n",
      "\n",
      "FILE\n",
      "    /home/james/anaconda2/lib/python2.7/site-packages/nltk/tokenize/__init__.py\n",
      "\n",
      "DESCRIPTION\n",
      "    Tokenizers divide strings into lists of substrings.  For example,\n",
      "    tokenizers can be used to find the words and punctuation in a string:\n",
      "    \n",
      "        >>> from nltk.tokenize import word_tokenize\n",
      "        >>> s = '''Good muffins cost $3.88\\nin New York.  Please buy me\n",
      "        ... two of them.\\n\\nThanks.'''\n",
      "        >>> word_tokenize(s)\n",
      "        ['Good', 'muffins', 'cost', '$', '3.88', 'in', 'New', 'York', '.',\n",
      "        'Please', 'buy', 'me', 'two', 'of', 'them', '.', 'Thanks', '.']\n",
      "    \n",
      "    This particular tokenizer requires the Punkt sentence tokenization\n",
      "    models to be installed. NLTK also provides a simpler,\n",
      "    regular-expression based tokenizer, which splits text on whitespace\n",
      "    and punctuation:\n",
      "    \n",
      "        >>> from nltk.tokenize import wordpunct_tokenize\n",
      "        >>> wordpunct_tokenize(s)\n",
      "        ['Good', 'muffins', 'cost', '$', '3', '.', '88', 'in', 'New', 'York', '.',\n",
      "        'Please', 'buy', 'me', 'two', 'of', 'them', '.', 'Thanks', '.']\n",
      "    \n",
      "    We can also operate at the level of sentences, using the sentence\n",
      "    tokenizer directly as follows:\n",
      "    \n",
      "        >>> from nltk.tokenize import sent_tokenize, word_tokenize\n",
      "        >>> sent_tokenize(s)\n",
      "        ['Good muffins cost $3.88\\nin New York.', 'Please buy me\\ntwo of them.', 'Thanks.']\n",
      "        >>> [word_tokenize(t) for t in sent_tokenize(s)]\n",
      "        [['Good', 'muffins', 'cost', '$', '3.88', 'in', 'New', 'York', '.'],\n",
      "        ['Please', 'buy', 'me', 'two', 'of', 'them', '.'], ['Thanks', '.']]\n",
      "    \n",
      "    Caution: when tokenizing a Unicode string, make sure you are not\n",
      "    using an encoded version of the string (it may be necessary to\n",
      "    decode it first, e.g. with ``s.decode(\"utf8\")``.\n",
      "    \n",
      "    NLTK tokenizers can produce token-spans, represented as tuples of integers\n",
      "    having the same semantics as string slices, to support efficient comparison\n",
      "    of tokenizers.  (These methods are implemented as generators.)\n",
      "    \n",
      "        >>> from nltk.tokenize import WhitespaceTokenizer\n",
      "        >>> list(WhitespaceTokenizer().span_tokenize(s))\n",
      "        [(0, 4), (5, 12), (13, 17), (18, 23), (24, 26), (27, 30), (31, 36), (38, 44),\n",
      "        (45, 48), (49, 51), (52, 55), (56, 58), (59, 64), (66, 73)]\n",
      "    \n",
      "    There are numerous ways to tokenize text.  If you need more control over\n",
      "    tokenization, see the other methods provided in this package.\n",
      "    \n",
      "    For further information, please see Chapter 3 of the NLTK book.\n",
      "\n",
      "PACKAGE CONTENTS\n",
      "    api\n",
      "    casual\n",
      "    mwe\n",
      "    punkt\n",
      "    regexp\n",
      "    sexpr\n",
      "    simple\n",
      "    stanford\n",
      "    stanford_segmenter\n",
      "    texttiling\n",
      "    treebank\n",
      "    util\n",
      "\n",
      "FUNCTIONS\n",
      "    sent_tokenize(text, language='english')\n",
      "        Return a sentence-tokenized copy of *text*,\n",
      "        using NLTK's recommended sentence tokenizer\n",
      "        (currently :class:`.PunktSentenceTokenizer`\n",
      "        for the specified language).\n",
      "        \n",
      "        :param text: text to split into sentences\n",
      "        :param language: the model name in the Punkt corpus\n",
      "    \n",
      "    word_tokenize(text, language='english')\n",
      "        Return a tokenized copy of *text*,\n",
      "        using NLTK's recommended word tokenizer\n",
      "        (currently :class:`.TreebankWordTokenizer`\n",
      "        along with :class:`.PunktSentenceTokenizer`\n",
      "        for the specified language).\n",
      "        \n",
      "        :param text: text to split into sentences\n",
      "        :param language: the model name in the Punkt corpus\n",
      "\n",
      "\n"
     ]
    }
   ],
   "source": [
    "import nltk\n",
    "help(nltk.tokenize)"
   ]
  },
  {
   "cell_type": "code",
   "execution_count": 64,
   "metadata": {
    "collapsed": false
   },
   "outputs": [
    {
     "name": "stdout",
     "output_type": "stream",
     "text": [
      "but hear right work ! head\n",
      "\t\tcold frosty ground was my\n",
      "mind i 'm wounded !\n",
      "\t\tand bleeding ca cry\n"
     ]
    }
   ],
   "source": [
    "import re\n",
    "p = re.compile(r'\\[.*,.*\\]')\n",
    "print re.sub(p,'!', ss)\n",
    "#print re.findall(r'\\[[^)]*\\]',ss)[0]"
   ]
  },
  {
   "cell_type": "code",
   "execution_count": 101,
   "metadata": {
    "collapsed": false
   },
   "outputs": [
    {
     "name": "stdout",
     "output_type": "stream",
     "text": [
      "Help on package nltk.tokenize in nltk:\n",
      "\n",
      "NAME\n",
      "    nltk.tokenize - NLTK Tokenizer Package\n",
      "\n",
      "FILE\n",
      "    /home/james/anaconda2/lib/python2.7/site-packages/nltk/tokenize/__init__.py\n",
      "\n",
      "DESCRIPTION\n",
      "    Tokenizers divide strings into lists of substrings.  For example,\n",
      "    tokenizers can be used to find the words and punctuation in a string:\n",
      "    \n",
      "        >>> from nltk.tokenize import word_tokenize\n",
      "        >>> s = '''Good muffins cost $3.88\\nin New York.  Please buy me\n",
      "        ... two of them.\\n\\nThanks.'''\n",
      "        >>> word_tokenize(s)\n",
      "        ['Good', 'muffins', 'cost', '$', '3.88', 'in', 'New', 'York', '.',\n",
      "        'Please', 'buy', 'me', 'two', 'of', 'them', '.', 'Thanks', '.']\n",
      "    \n",
      "    This particular tokenizer requires the Punkt sentence tokenization\n",
      "    models to be installed. NLTK also provides a simpler,\n",
      "    regular-expression based tokenizer, which splits text on whitespace\n",
      "    and punctuation:\n",
      "    \n",
      "        >>> from nltk.tokenize import wordpunct_tokenize\n",
      "        >>> wordpunct_tokenize(s)\n",
      "        ['Good', 'muffins', 'cost', '$', '3', '.', '88', 'in', 'New', 'York', '.',\n",
      "        'Please', 'buy', 'me', 'two', 'of', 'them', '.', 'Thanks', '.']\n",
      "    \n",
      "    We can also operate at the level of sentences, using the sentence\n",
      "    tokenizer directly as follows:\n",
      "    \n",
      "        >>> from nltk.tokenize import sent_tokenize, word_tokenize\n",
      "        >>> sent_tokenize(s)\n",
      "        ['Good muffins cost $3.88\\nin New York.', 'Please buy me\\ntwo of them.', 'Thanks.']\n",
      "        >>> [word_tokenize(t) for t in sent_tokenize(s)]\n",
      "        [['Good', 'muffins', 'cost', '$', '3.88', 'in', 'New', 'York', '.'],\n",
      "        ['Please', 'buy', 'me', 'two', 'of', 'them', '.'], ['Thanks', '.']]\n",
      "    \n",
      "    Caution: when tokenizing a Unicode string, make sure you are not\n",
      "    using an encoded version of the string (it may be necessary to\n",
      "    decode it first, e.g. with ``s.decode(\"utf8\")``.\n",
      "    \n",
      "    NLTK tokenizers can produce token-spans, represented as tuples of integers\n",
      "    having the same semantics as string slices, to support efficient comparison\n",
      "    of tokenizers.  (These methods are implemented as generators.)\n",
      "    \n",
      "        >>> from nltk.tokenize import WhitespaceTokenizer\n",
      "        >>> list(WhitespaceTokenizer().span_tokenize(s))\n",
      "        [(0, 4), (5, 12), (13, 17), (18, 23), (24, 26), (27, 30), (31, 36), (38, 44),\n",
      "        (45, 48), (49, 51), (52, 55), (56, 58), (59, 64), (66, 73)]\n",
      "    \n",
      "    There are numerous ways to tokenize text.  If you need more control over\n",
      "    tokenization, see the other methods provided in this package.\n",
      "    \n",
      "    For further information, please see Chapter 3 of the NLTK book.\n",
      "\n",
      "PACKAGE CONTENTS\n",
      "    api\n",
      "    casual\n",
      "    mwe\n",
      "    punkt\n",
      "    regexp\n",
      "    sexpr\n",
      "    simple\n",
      "    stanford\n",
      "    stanford_segmenter\n",
      "    texttiling\n",
      "    treebank\n",
      "    util\n",
      "\n",
      "FUNCTIONS\n",
      "    sent_tokenize(text, language='english')\n",
      "        Return a sentence-tokenized copy of *text*,\n",
      "        using NLTK's recommended sentence tokenizer\n",
      "        (currently :class:`.PunktSentenceTokenizer`\n",
      "        for the specified language).\n",
      "        \n",
      "        :param text: text to split into sentences\n",
      "        :param language: the model name in the Punkt corpus\n",
      "    \n",
      "    word_tokenize(text, language='english')\n",
      "        Return a tokenized copy of *text*,\n",
      "        using NLTK's recommended word tokenizer\n",
      "        (currently :class:`.TreebankWordTokenizer`\n",
      "        along with :class:`.PunktSentenceTokenizer`\n",
      "        for the specified language).\n",
      "        \n",
      "        :param text: text to split into sentences\n",
      "        :param language: the model name in the Punkt corpus\n",
      "\n",
      "\n"
     ]
    }
   ],
   "source": [
    "help(nltk.tokenize)"
   ]
  },
  {
   "cell_type": "code",
   "execution_count": 80,
   "metadata": {
    "collapsed": false
   },
   "outputs": [],
   "source": [
    "def removeBracketJunk(self, ss):\n",
    "    p = re.compile(r'\\[.*,.*\\]')\n",
    "    phrases = re.findall(p,ss)\n",
    "    for p in phrases:\n",
    "        ss = ss.replace(p, p.split(',')[0].replace('[','').strip())\n",
    "    return ss"
   ]
  },
  {
   "cell_type": "code",
   "execution_count": 82,
   "metadata": {
    "collapsed": false
   },
   "outputs": [
    {
     "name": "stdout",
     "output_type": "stream",
     "text": [
      "but hear right work my head\n",
      "\t\tcold frosty ground was my\n",
      "mind i 'm wounded grounded\n",
      "\t\tand bleeding ca cry\n"
     ]
    }
   ],
   "source": [
    "print ss"
   ]
  },
  {
   "cell_type": "code",
   "execution_count": 158,
   "metadata": {
    "collapsed": false
   },
   "outputs": [],
   "source": [
    "import pickle\n",
    "rhymeStoreFile = '../data/rhymestore.pickle'\n",
    "rhymeProb = pickle.load(open(rhymeStoreFile))"
   ]
  },
  {
   "cell_type": "code",
   "execution_count": 151,
   "metadata": {
    "collapsed": false
   },
   "outputs": [
    {
     "name": "stdout",
     "output_type": "stream",
     "text": [
      "\n",
      "let your money talk let your money talk \n",
      "\t let your money talk let your money talk \n",
      " if you feel like riding \n",
      "\t and don't want to walk\n",
      "\n",
      "now you look so neat and you look so neat \n",
      "\t and you talk so sweet you talk so sweet \n",
      " now you can't get by no matter how you try \n",
      "\t on your dead beat\n",
      "\n",
      "let your money talk let your money talk \n",
      "\t so we can hear so we can hear \n",
      " if you ain't coming back tell me right now \n",
      "\t leave a dime for beer\n",
      "\n",
      "let your money talk let your money talk \n",
      "\t put it in my hand put it in my hand \n",
      " if you like your cool kind beer pretty mama \n",
      "\t we can rush the can\n",
      "\n",
      "if you go to the butcher if you go to the butcher \n",
      "\t to get you sausage grind your sausage grind \n",
      " if he can't get it in the front door \n",
      "\t he don't want it behind\n",
      "\n",
      "you want your ashes hauled you want your ashes hauled \n",
      "\t and ain't got no man ain't got no man \n",
      " just lay it on the wood pretty mama \n",
      "\t i do the best i can\n",
      "\n",
      "if you want to boogie-woogie if you want to boogie-woogie \n",
      "\t and haven't got the price haven't got the price \n",
      " just let the landlady know man \n",
      "\t and she will put it on ice\n",
      "\n",
      "and now if you can't see if you can't see \n",
      "\t if you deaf and dumb you deaf and dumb \n",
      " don't stand around looking cute \n",
      "\t and on a bum\n",
      "\n",
      "\n"
     ]
    }
   ],
   "source": [
    "song=cc.bluesSongs[40]\n",
    "print song"
   ]
  },
  {
   "cell_type": "code",
   "execution_count": 154,
   "metadata": {
    "collapsed": false
   },
   "outputs": [],
   "source": [
    "import pronouncing\n",
    "rhymeSets = []\n",
    "endwords = [word.split()[-1] for word in song.fullLyricText.replace('-',' ').split('\\n') if len(word.split())>0]\n",
    "rhymeSets += [xx[1] for xx in enumerate(nltk.bigrams(endwords)) if xx[1][0] in pronouncing.rhymes(xx[1][1])] # ensure they rhyme \n",
    "backwardsRhymeSets = [(xx[1],xx[0]) for xx in rhymeSets]\n",
    "rhymeSets +=(backwardsRhymeSets)"
   ]
  },
  {
   "cell_type": "code",
   "execution_count": 195,
   "metadata": {
    "collapsed": false
   },
   "outputs": [
    {
     "data": {
      "text/plain": [
       "[u'ten', u\"it's\", u'costs', u'four', u'ninety', u'sixty', u\"i'm\"]"
      ]
     },
     "execution_count": 195,
     "metadata": {},
     "output_type": "execute_result"
    }
   ],
   "source": [
    "cc.pd[('hundred','and')].samples()\n"
   ]
  },
  {
   "cell_type": "code",
   "execution_count": 190,
   "metadata": {
    "collapsed": false
   },
   "outputs": [
    {
     "name": "stdout",
     "output_type": "stream",
     "text": [
      "<MLEProbDist based on 0 samples>\n"
     ]
    }
   ],
   "source": [
    "print rhymeProb[('hundred','and')]\n",
    "#help(rhymeProb['must'].freqdist)"
   ]
  },
  {
   "cell_type": "code",
   "execution_count": 226,
   "metadata": {
    "collapsed": false
   },
   "outputs": [
    {
     "name": "stdout",
     "output_type": "stream",
     "text": [
      "set([u'four'])\n"
     ]
    }
   ],
   "source": [
    "word = 'door'\n",
    "givens = ('hundred','and')\n",
    "rhymingWords = set(pronouncing.rhymes(word)) # words that rhyme with line2 end word\n",
    "trigramRhymeWords = set(cc.pd[givens].samples())  # a list of words with same line4 priors\n",
    "trigramMatches = rhymingWords.intersection(trigramRhymeWords)\n",
    "print trigramMatches\n",
    "\n",
    "\n"
   ]
  },
  {
   "cell_type": "code",
   "execution_count": 296,
   "metadata": {
    "collapsed": false
   },
   "outputs": [
    {
     "name": "stdout",
     "output_type": "stream",
     "text": [
      "[u'costs', u'four', u'ninety', u'sixty', u\"i'm\"]\n"
     ]
    },
    {
     "data": {
      "text/plain": [
       "u'four'"
      ]
     },
     "execution_count": 296,
     "metadata": {},
     "output_type": "execute_result"
    }
   ],
   "source": [
    "def subsetProbDist(self, word):\n",
    "    \"\"\"A generating probability distribution of only rhyming words\"\"\"\n",
    "\n",
    "    #word = 'door'\n",
    "    #givens = ('hundred','and')\n",
    "    self.line4[-2:]\n",
    "    rhymingWords = set(pronouncing.rhymes(word)) # words that rhyme with line2 end word\n",
    "    trigramRhymeWords = set(cc.pd[givens].samples())  # a list of words with same line4 givens\n",
    "    trigramMatches = rhymingWords.intersection(trigramRhymeWords)\n",
    "    \n",
    "    orignalFrequencyDistribution = self.pd[givens].freqdist()\n",
    "\n",
    "    # Set non-rhyming options to zero\n",
    "    for thisKey in orignalFrequencyDistribution.iterkeys():\n",
    "        if thisKey not in trigramMatches:\n",
    "            orignalFrequencyDistribution[thisKey]=0  # \n",
    "\n",
    "\n",
    "    newProbDist = nltk.MLEProbDist(ff)\n",
    "    \n",
    "    return newProbDist\n"
   ]
  },
  {
   "cell_type": "code",
   "execution_count": 290,
   "metadata": {
    "collapsed": false
   },
   "outputs": [
    {
     "ename": "NotImplementedError",
     "evalue": "Interfaces can't be instantiated",
     "output_type": "error",
     "traceback": [
      "\u001b[1;31m\u001b[0m",
      "\u001b[1;31mNotImplementedError\u001b[0mTraceback (most recent call last)",
      "\u001b[1;32m<ipython-input-290-df5a179e614b>\u001b[0m in \u001b[0;36m<module>\u001b[1;34m()\u001b[0m\n\u001b[1;32m----> 1\u001b[1;33m \u001b[1;32mprint\u001b[0m \u001b[0mnltk\u001b[0m\u001b[1;33m.\u001b[0m\u001b[0mprobability\u001b[0m\u001b[1;33m.\u001b[0m\u001b[0mProbDistI\u001b[0m\u001b[1;33m(\u001b[0m\u001b[1;33m)\u001b[0m\u001b[1;33m\u001b[0m\u001b[0m\n\u001b[0m\u001b[0;32m      2\u001b[0m \u001b[1;33m\u001b[0m\u001b[0m\n",
      "\u001b[1;32m/home/james/anaconda2/lib/python2.7/site-packages/nltk/probability.pyc\u001b[0m in \u001b[0;36m__init__\u001b[1;34m(self)\u001b[0m\n\u001b[0;32m    413\u001b[0m     \u001b[1;32mdef\u001b[0m \u001b[0m__init__\u001b[0m\u001b[1;33m(\u001b[0m\u001b[0mself\u001b[0m\u001b[1;33m)\u001b[0m\u001b[1;33m:\u001b[0m\u001b[1;33m\u001b[0m\u001b[0m\n\u001b[0;32m    414\u001b[0m         \u001b[1;32mif\u001b[0m \u001b[0mself\u001b[0m\u001b[1;33m.\u001b[0m\u001b[0m__class__\u001b[0m \u001b[1;33m==\u001b[0m \u001b[0mProbDistI\u001b[0m\u001b[1;33m:\u001b[0m\u001b[1;33m\u001b[0m\u001b[0m\n\u001b[1;32m--> 415\u001b[1;33m             \u001b[1;32mraise\u001b[0m \u001b[0mNotImplementedError\u001b[0m\u001b[1;33m(\u001b[0m\u001b[1;34m\"Interfaces can't be instantiated\"\u001b[0m\u001b[1;33m)\u001b[0m\u001b[1;33m\u001b[0m\u001b[0m\n\u001b[0m\u001b[0;32m    416\u001b[0m \u001b[1;33m\u001b[0m\u001b[0m\n\u001b[0;32m    417\u001b[0m     \u001b[1;32mdef\u001b[0m \u001b[0mprob\u001b[0m\u001b[1;33m(\u001b[0m\u001b[0mself\u001b[0m\u001b[1;33m,\u001b[0m \u001b[0msample\u001b[0m\u001b[1;33m)\u001b[0m\u001b[1;33m:\u001b[0m\u001b[1;33m\u001b[0m\u001b[0m\n",
      "\u001b[1;31mNotImplementedError\u001b[0m: Interfaces can't be instantiated"
     ]
    }
   ],
   "source": [
    "print nltk.Pro\n"
   ]
  },
  {
   "cell_type": "code",
   "execution_count": 281,
   "metadata": {
    "collapsed": false
   },
   "outputs": [
    {
     "ename": "AttributeError",
     "evalue": "'int' object has no attribute 'N'",
     "output_type": "error",
     "traceback": [
      "\u001b[1;31m\u001b[0m",
      "\u001b[1;31mAttributeError\u001b[0mTraceback (most recent call last)",
      "\u001b[1;32m<ipython-input-281-fca8f9a3cc3d>\u001b[0m in \u001b[0;36m<module>\u001b[1;34m()\u001b[0m\n\u001b[0;32m      1\u001b[0m \u001b[0mpp\u001b[0m\u001b[1;33m=\u001b[0m\u001b[0mnltk\u001b[0m\u001b[1;33m.\u001b[0m\u001b[0mConditionalProbDist\u001b[0m\u001b[1;33m(\u001b[0m\u001b[0mff\u001b[0m\u001b[1;33m,\u001b[0m \u001b[0mnltk\u001b[0m\u001b[1;33m.\u001b[0m\u001b[0mMLEProbDist\u001b[0m\u001b[1;33m)\u001b[0m\u001b[1;33m\u001b[0m\u001b[0m\n\u001b[1;32m----> 2\u001b[1;33m \u001b[1;32mprint\u001b[0m \u001b[0mpp\u001b[0m\u001b[1;33m.\u001b[0m\u001b[0mvalues\u001b[0m\u001b[1;33m(\u001b[0m\u001b[1;33m)\u001b[0m\u001b[1;33m\u001b[0m\u001b[0m\n\u001b[0m",
      "\u001b[1;32m/home/james/anaconda2/lib/python2.7/site-packages/nltk/compat.pyc\u001b[0m in \u001b[0;36mwrapper\u001b[1;34m(self)\u001b[0m\n\u001b[0;32m    666\u001b[0m \u001b[1;32mdef\u001b[0m \u001b[0m_7bit\u001b[0m\u001b[1;33m(\u001b[0m\u001b[0mmethod\u001b[0m\u001b[1;33m)\u001b[0m\u001b[1;33m:\u001b[0m\u001b[1;33m\u001b[0m\u001b[0m\n\u001b[0;32m    667\u001b[0m     \u001b[1;32mdef\u001b[0m \u001b[0mwrapper\u001b[0m\u001b[1;33m(\u001b[0m\u001b[0mself\u001b[0m\u001b[1;33m)\u001b[0m\u001b[1;33m:\u001b[0m\u001b[1;33m\u001b[0m\u001b[0m\n\u001b[1;32m--> 668\u001b[1;33m         \u001b[1;32mreturn\u001b[0m \u001b[0mmethod\u001b[0m\u001b[1;33m(\u001b[0m\u001b[0mself\u001b[0m\u001b[1;33m)\u001b[0m\u001b[1;33m.\u001b[0m\u001b[0mencode\u001b[0m\u001b[1;33m(\u001b[0m\u001b[1;34m'ascii'\u001b[0m\u001b[1;33m,\u001b[0m \u001b[1;34m'backslashreplace'\u001b[0m\u001b[1;33m)\u001b[0m\u001b[1;33m\u001b[0m\u001b[0m\n\u001b[0m\u001b[0;32m    669\u001b[0m \u001b[1;33m\u001b[0m\u001b[0m\n\u001b[0;32m    670\u001b[0m     \u001b[0mfunctools\u001b[0m\u001b[1;33m.\u001b[0m\u001b[0mupdate_wrapper\u001b[0m\u001b[1;33m(\u001b[0m\u001b[0mwrapper\u001b[0m\u001b[1;33m,\u001b[0m \u001b[0mmethod\u001b[0m\u001b[1;33m,\u001b[0m \u001b[1;33m[\u001b[0m\u001b[1;34m\"__name__\"\u001b[0m\u001b[1;33m,\u001b[0m \u001b[1;34m\"__doc__\"\u001b[0m\u001b[1;33m]\u001b[0m\u001b[1;33m)\u001b[0m\u001b[1;33m\u001b[0m\u001b[0m\n",
      "\u001b[1;32m/home/james/anaconda2/lib/python2.7/site-packages/nltk/probability.pyc\u001b[0m in \u001b[0;36m__repr__\u001b[1;34m(self)\u001b[0m\n\u001b[0;32m    687\u001b[0m         \u001b[1;33m:\u001b[0m\u001b[1;32mreturn\u001b[0m\u001b[1;33m:\u001b[0m \u001b[0mA\u001b[0m \u001b[0mstring\u001b[0m \u001b[0mrepresentation\u001b[0m \u001b[0mof\u001b[0m \u001b[0mthis\u001b[0m \u001b[1;33m`\u001b[0m\u001b[1;33m`\u001b[0m\u001b[0mProbDist\u001b[0m\u001b[1;33m`\u001b[0m\u001b[1;33m`\u001b[0m\u001b[1;33m.\u001b[0m\u001b[1;33m\u001b[0m\u001b[0m\n\u001b[0;32m    688\u001b[0m         \"\"\"\n\u001b[1;32m--> 689\u001b[1;33m         \u001b[1;32mreturn\u001b[0m \u001b[1;34m'<MLEProbDist based on %d samples>'\u001b[0m \u001b[1;33m%\u001b[0m \u001b[0mself\u001b[0m\u001b[1;33m.\u001b[0m\u001b[0m_freqdist\u001b[0m\u001b[1;33m.\u001b[0m\u001b[0mN\u001b[0m\u001b[1;33m(\u001b[0m\u001b[1;33m)\u001b[0m\u001b[1;33m\u001b[0m\u001b[0m\n\u001b[0m\u001b[0;32m    690\u001b[0m \u001b[1;33m\u001b[0m\u001b[0m\n\u001b[0;32m    691\u001b[0m \u001b[1;33m\u001b[0m\u001b[0m\n",
      "\u001b[1;31mAttributeError\u001b[0m: 'int' object has no attribute 'N'"
     ]
    }
   ],
   "source": [
    "#pp=nltk.ConditionalProbDist(ff, nltk.MLEProbDist)\n",
    "#print pp.values()"
   ]
  },
  {
   "cell_type": "code",
   "execution_count": 259,
   "metadata": {
    "collapsed": false
   },
   "outputs": [
    {
     "ename": "AttributeError",
     "evalue": "'ConditionalProbDist' object has no attribute 'plot'",
     "output_type": "error",
     "traceback": [
      "\u001b[1;31m\u001b[0m",
      "\u001b[1;31mAttributeError\u001b[0mTraceback (most recent call last)",
      "\u001b[1;32m<ipython-input-259-5afc366a8ac3>\u001b[0m in \u001b[0;36m<module>\u001b[1;34m()\u001b[0m\n\u001b[0;32m      1\u001b[0m \u001b[0mget_ipython\u001b[0m\u001b[1;33m(\u001b[0m\u001b[1;33m)\u001b[0m\u001b[1;33m.\u001b[0m\u001b[0mmagic\u001b[0m\u001b[1;33m(\u001b[0m\u001b[1;34mu'matplotlib inline'\u001b[0m\u001b[1;33m)\u001b[0m\u001b[1;33m\u001b[0m\u001b[0m\n\u001b[1;32m----> 2\u001b[1;33m \u001b[0mcc\u001b[0m\u001b[1;33m.\u001b[0m\u001b[0mpd\u001b[0m\u001b[1;33m.\u001b[0m\u001b[0mplot\u001b[0m\u001b[1;33m(\u001b[0m\u001b[1;33m)\u001b[0m\u001b[1;33m\u001b[0m\u001b[0m\n\u001b[0m",
      "\u001b[1;31mAttributeError\u001b[0m: 'ConditionalProbDist' object has no attribute 'plot'"
     ]
    }
   ],
   "source": [
    "%matplotlib inline\n",
    "cc.pd.plot()"
   ]
  },
  {
   "cell_type": "code",
   "execution_count": 23,
   "metadata": {
    "collapsed": false
   },
   "outputs": [
    {
     "ename": "IndexError",
     "evalue": "list index out of range",
     "output_type": "error",
     "traceback": [
      "\u001b[1;31m\u001b[0m",
      "\u001b[1;31mIndexError\u001b[0mTraceback (most recent call last)",
      "\u001b[1;32m<ipython-input-23-5de1923640e4>\u001b[0m in \u001b[0;36m<module>\u001b[1;34m()\u001b[0m\n\u001b[1;32m----> 1\u001b[1;33m \u001b[0mcc\u001b[0m\u001b[1;33m.\u001b[0m\u001b[0mpd\u001b[0m\u001b[1;33m[\u001b[0m\u001b[1;33m(\u001b[0m\u001b[1;34mu'just'\u001b[0m\u001b[1;33m,\u001b[0m \u001b[1;34mu'no'\u001b[0m\u001b[1;33m)\u001b[0m\u001b[1;33m]\u001b[0m\u001b[1;33m.\u001b[0m\u001b[0mgenerate\u001b[0m\u001b[1;33m(\u001b[0m\u001b[1;33m)\u001b[0m\u001b[1;33m\u001b[0m\u001b[0m\n\u001b[0m\u001b[0;32m      2\u001b[0m \u001b[1;33m\u001b[0m\u001b[0m\n\u001b[0;32m      3\u001b[0m \u001b[1;33m\u001b[0m\u001b[0m\n",
      "\u001b[1;32m/home/james/anaconda2/lib/python2.7/site-packages/nltk/probability.pyc\u001b[0m in \u001b[0;36mgenerate\u001b[1;34m(self)\u001b[0m\n\u001b[0;32m    488\u001b[0m             warnings.warn(\"Probability distribution %r sums to %r; generate()\"\n\u001b[0;32m    489\u001b[0m                           \" is returning an arbitrary sample.\" % (self, p_init-p))\n\u001b[1;32m--> 490\u001b[1;33m         \u001b[1;32mreturn\u001b[0m \u001b[0mrandom\u001b[0m\u001b[1;33m.\u001b[0m\u001b[0mchoice\u001b[0m\u001b[1;33m(\u001b[0m\u001b[0mlist\u001b[0m\u001b[1;33m(\u001b[0m\u001b[0mself\u001b[0m\u001b[1;33m.\u001b[0m\u001b[0msamples\u001b[0m\u001b[1;33m(\u001b[0m\u001b[1;33m)\u001b[0m\u001b[1;33m)\u001b[0m\u001b[1;33m)\u001b[0m\u001b[1;33m\u001b[0m\u001b[0m\n\u001b[0m\u001b[0;32m    491\u001b[0m \u001b[1;33m\u001b[0m\u001b[0m\n\u001b[0;32m    492\u001b[0m \u001b[1;33m\u001b[0m\u001b[0m\n",
      "\u001b[1;32m/home/james/anaconda2/lib/python2.7/random.pyc\u001b[0m in \u001b[0;36mchoice\u001b[1;34m(self, seq)\u001b[0m\n\u001b[0;32m    273\u001b[0m     \u001b[1;32mdef\u001b[0m \u001b[0mchoice\u001b[0m\u001b[1;33m(\u001b[0m\u001b[0mself\u001b[0m\u001b[1;33m,\u001b[0m \u001b[0mseq\u001b[0m\u001b[1;33m)\u001b[0m\u001b[1;33m:\u001b[0m\u001b[1;33m\u001b[0m\u001b[0m\n\u001b[0;32m    274\u001b[0m         \u001b[1;34m\"\"\"Choose a random element from a non-empty sequence.\"\"\"\u001b[0m\u001b[1;33m\u001b[0m\u001b[0m\n\u001b[1;32m--> 275\u001b[1;33m         \u001b[1;32mreturn\u001b[0m \u001b[0mseq\u001b[0m\u001b[1;33m[\u001b[0m\u001b[0mint\u001b[0m\u001b[1;33m(\u001b[0m\u001b[0mself\u001b[0m\u001b[1;33m.\u001b[0m\u001b[0mrandom\u001b[0m\u001b[1;33m(\u001b[0m\u001b[1;33m)\u001b[0m \u001b[1;33m*\u001b[0m \u001b[0mlen\u001b[0m\u001b[1;33m(\u001b[0m\u001b[0mseq\u001b[0m\u001b[1;33m)\u001b[0m\u001b[1;33m)\u001b[0m\u001b[1;33m]\u001b[0m  \u001b[1;31m# raises IndexError if seq is empty\u001b[0m\u001b[1;33m\u001b[0m\u001b[0m\n\u001b[0m\u001b[0;32m    276\u001b[0m \u001b[1;33m\u001b[0m\u001b[0m\n\u001b[0;32m    277\u001b[0m     \u001b[1;32mdef\u001b[0m \u001b[0mshuffle\u001b[0m\u001b[1;33m(\u001b[0m\u001b[0mself\u001b[0m\u001b[1;33m,\u001b[0m \u001b[0mx\u001b[0m\u001b[1;33m,\u001b[0m \u001b[0mrandom\u001b[0m\u001b[1;33m=\u001b[0m\u001b[0mNone\u001b[0m\u001b[1;33m)\u001b[0m\u001b[1;33m:\u001b[0m\u001b[1;33m\u001b[0m\u001b[0m\n",
      "\u001b[1;31mIndexError\u001b[0m: list index out of range"
     ]
    }
   ],
   "source": [
    "cc.pd[(u'just', u'no')].generate()\n",
    "\n",
    "\n"
   ]
  },
  {
   "cell_type": "code",
   "execution_count": 44,
   "metadata": {
    "collapsed": false
   },
   "outputs": [
    {
     "name": "stdout",
     "output_type": "stream",
     "text": [
      "their doomed to lose your mind\n",
      "\t\tbaby i can't name you\n",
      "mistreated me now there's\n",
      "\t\ttwenty two to leave me\n"
     ]
    }
   ],
   "source": [
    "print cc"
   ]
  },
  {
   "cell_type": "code",
   "execution_count": 45,
   "metadata": {
    "collapsed": false
   },
   "outputs": [
    {
     "name": "stdout",
     "output_type": "stream",
     "text": [
      "Type 2.\n"
     ]
    },
    {
     "ename": "TypeError",
     "evalue": "'instancemethod' object has no attribute '__getitem__'",
     "output_type": "error",
     "traceback": [
      "\u001b[1;31m\u001b[0m",
      "\u001b[1;31mTypeError\u001b[0mTraceback (most recent call last)",
      "\u001b[1;32m<ipython-input-45-9eeec448893e>\u001b[0m in \u001b[0;36m<module>\u001b[1;34m()\u001b[0m\n\u001b[1;32m----> 1\u001b[1;33m \u001b[0mcc\u001b[0m\u001b[1;33m.\u001b[0m\u001b[0mforceRhyme\u001b[0m\u001b[1;33m(\u001b[0m\u001b[1;33m)\u001b[0m\u001b[1;33m\u001b[0m\u001b[0m\n\u001b[0m",
      "\u001b[1;32m/data/W266/code/w266Final.pyc\u001b[0m in \u001b[0;36mforceRhyme\u001b[1;34m(self, line2, line4)\u001b[0m\n\u001b[0;32m    702\u001b[0m                                 \u001b[0mnewLine4\u001b[0m \u001b[1;33m=\u001b[0m \u001b[0mline4\u001b[0m\u001b[1;33m[\u001b[0m\u001b[1;36m0\u001b[0m\u001b[1;33m:\u001b[0m\u001b[1;33m-\u001b[0m\u001b[1;36m1\u001b[0m\u001b[1;33m]\u001b[0m\u001b[1;33m\u001b[0m\u001b[0m\n\u001b[0;32m    703\u001b[0m                                 \u001b[1;31m#newLine4.append(random.choice(rhymeList))\u001b[0m\u001b[1;33m\u001b[0m\u001b[1;33m\u001b[0m\u001b[0m\n\u001b[1;32m--> 704\u001b[1;33m                                 \u001b[0mnewLine4\u001b[0m\u001b[1;33m.\u001b[0m\u001b[0mappend\u001b[0m\u001b[1;33m(\u001b[0m\u001b[0mself\u001b[0m\u001b[1;33m.\u001b[0m\u001b[0mbluesRhyme\u001b[0m\u001b[1;33m(\u001b[0m\u001b[0mline2\u001b[0m\u001b[1;33m[\u001b[0m\u001b[1;33m-\u001b[0m\u001b[1;36m1\u001b[0m\u001b[1;33m]\u001b[0m\u001b[1;33m)\u001b[0m\u001b[1;33m)\u001b[0m\u001b[1;33m\u001b[0m\u001b[0m\n\u001b[0m\u001b[0;32m    705\u001b[0m                                 \u001b[0mself\u001b[0m\u001b[1;33m.\u001b[0m\u001b[0mline4\u001b[0m \u001b[1;33m=\u001b[0m \u001b[0mnewLine4\u001b[0m\u001b[1;33m\u001b[0m\u001b[0m\n\u001b[0;32m    706\u001b[0m                                 \u001b[1;32mreturn\u001b[0m \u001b[0mnewLine4\u001b[0m\u001b[1;33m\u001b[0m\u001b[0m\n",
      "\u001b[1;32m/data/W266/code/w266Final.pyc\u001b[0m in \u001b[0;36mbluesRhyme\u001b[1;34m(self, word)\u001b[0m\n\u001b[0;32m    746\u001b[0m                         \u001b[1;31m# Generate a rhyming word that matches the 'givens' at the end of line 4\u001b[0m\u001b[1;33m\u001b[0m\u001b[1;33m\u001b[0m\u001b[0m\n\u001b[0;32m    747\u001b[0m                         \u001b[1;32mprint\u001b[0m \u001b[1;34m'Type 2.'\u001b[0m\u001b[1;33m\u001b[0m\u001b[0m\n\u001b[1;32m--> 748\u001b[1;33m                         \u001b[0moutputWord\u001b[0m \u001b[1;33m=\u001b[0m \u001b[0mself\u001b[0m\u001b[1;33m.\u001b[0m\u001b[0msubsetProbDist\u001b[0m\u001b[1;33m[\u001b[0m\u001b[0mword\u001b[0m\u001b[1;33m]\u001b[0m\u001b[1;33m.\u001b[0m\u001b[0mgenerate\u001b[0m\u001b[1;33m(\u001b[0m\u001b[1;33m)\u001b[0m\u001b[1;33m\u001b[0m\u001b[0m\n\u001b[0m\u001b[0;32m    749\u001b[0m \u001b[1;33m\u001b[0m\u001b[0m\n\u001b[0;32m    750\u001b[0m                         \u001b[1;32mprint\u001b[0m \u001b[1;34m'Word: '\u001b[0m\u001b[1;33m,\u001b[0m \u001b[0moutputWord\u001b[0m\u001b[1;33m\u001b[0m\u001b[0m\n",
      "\u001b[1;31mTypeError\u001b[0m: 'instancemethod' object has no attribute '__getitem__'"
     ]
    }
   ],
   "source": [
    "cc.forceRhyme()"
   ]
  },
  {
   "cell_type": "code",
   "execution_count": 54,
   "metadata": {
    "collapsed": false
   },
   "outputs": [
    {
     "name": "stdout",
     "output_type": "stream",
     "text": [
      "Subsetting\n"
     ]
    },
    {
     "ename": "NameError",
     "evalue": "global name 'givens' is not defined",
     "output_type": "error",
     "traceback": [
      "\u001b[1;31m\u001b[0m",
      "\u001b[1;31mNameError\u001b[0mTraceback (most recent call last)",
      "\u001b[1;32m<ipython-input-54-14bff80df0e0>\u001b[0m in \u001b[0;36m<module>\u001b[1;34m()\u001b[0m\n\u001b[0;32m      1\u001b[0m \u001b[1;31m#reload(w266Final)\u001b[0m\u001b[1;33m\u001b[0m\u001b[1;33m\u001b[0m\u001b[0m\n\u001b[0;32m      2\u001b[0m \u001b[0mgivens\u001b[0m \u001b[1;33m=\u001b[0m \u001b[0mcc\u001b[0m\u001b[1;33m.\u001b[0m\u001b[0mline4\u001b[0m\u001b[1;33m[\u001b[0m\u001b[1;33m-\u001b[0m\u001b[1;36m2\u001b[0m\u001b[1;33m:\u001b[0m\u001b[1;33m]\u001b[0m\u001b[1;33m\u001b[0m\u001b[0m\n\u001b[1;32m----> 3\u001b[1;33m \u001b[0mcc\u001b[0m\u001b[1;33m.\u001b[0m\u001b[0msubsetProbDist\u001b[0m\u001b[1;33m(\u001b[0m\u001b[1;34m'you'\u001b[0m\u001b[1;33m)\u001b[0m\u001b[1;33m\u001b[0m\u001b[0m\n\u001b[0m",
      "\u001b[1;32m/data/W266/code/w266Final.py\u001b[0m in \u001b[0;36msubsetProbDist\u001b[1;34m(self, word)\u001b[0m\n\u001b[0;32m    662\u001b[0m             \u001b[0mself\u001b[0m\u001b[1;33m.\u001b[0m\u001b[0mline4\u001b[0m\u001b[1;33m[\u001b[0m\u001b[1;33m-\u001b[0m\u001b[1;36m2\u001b[0m\u001b[1;33m:\u001b[0m\u001b[1;33m]\u001b[0m\u001b[1;33m\u001b[0m\u001b[0m\n\u001b[0;32m    663\u001b[0m             \u001b[0mrhymingWords\u001b[0m \u001b[1;33m=\u001b[0m \u001b[0mset\u001b[0m\u001b[1;33m(\u001b[0m\u001b[0mpronouncing\u001b[0m\u001b[1;33m.\u001b[0m\u001b[0mrhymes\u001b[0m\u001b[1;33m(\u001b[0m\u001b[0mword\u001b[0m\u001b[1;33m)\u001b[0m\u001b[1;33m)\u001b[0m \u001b[1;31m# words that rhyme with line2 end word\u001b[0m\u001b[1;33m\u001b[0m\u001b[0m\n\u001b[1;32m--> 664\u001b[1;33m             \u001b[0mtrigramRhymeWords\u001b[0m \u001b[1;33m=\u001b[0m \u001b[0mset\u001b[0m\u001b[1;33m(\u001b[0m\u001b[0mself\u001b[0m\u001b[1;33m.\u001b[0m\u001b[0mtrigramPD\u001b[0m\u001b[1;33m[\u001b[0m\u001b[0mgivens\u001b[0m\u001b[1;33m]\u001b[0m\u001b[1;33m.\u001b[0m\u001b[0msamples\u001b[0m\u001b[1;33m(\u001b[0m\u001b[1;33m)\u001b[0m\u001b[1;33m)\u001b[0m  \u001b[1;31m# a list of words with same line4 givens\u001b[0m\u001b[1;33m\u001b[0m\u001b[0m\n\u001b[0m\u001b[0;32m    665\u001b[0m             \u001b[0mtrigramMatches\u001b[0m \u001b[1;33m=\u001b[0m \u001b[0mrhymingWords\u001b[0m\u001b[1;33m.\u001b[0m\u001b[0mintersection\u001b[0m\u001b[1;33m(\u001b[0m\u001b[0mtrigramRhymeWords\u001b[0m\u001b[1;33m)\u001b[0m\u001b[1;33m\u001b[0m\u001b[0m\n\u001b[0;32m    666\u001b[0m \u001b[1;33m\u001b[0m\u001b[0m\n",
      "\u001b[1;31mNameError\u001b[0m: global name 'givens' is not defined"
     ]
    }
   ],
   "source": [
    "reload(w266Final)\n",
    "givens = cc.line4[-2:]\n",
    "cc.subsetProbDist('you')"
   ]
  },
  {
   "cell_type": "code",
   "execution_count": 64,
   "metadata": {
    "collapsed": false
   },
   "outputs": [
    {
     "name": "stdout",
     "output_type": "stream",
     "text": [
      "Subsetting\n"
     ]
    },
    {
     "ename": "TypeError",
     "evalue": "unhashable type: 'list'",
     "output_type": "error",
     "traceback": [
      "\u001b[1;31m\u001b[0m",
      "\u001b[1;31mTypeError\u001b[0mTraceback (most recent call last)",
      "\u001b[1;32m<ipython-input-64-34c840dde784>\u001b[0m in \u001b[0;36m<module>\u001b[1;34m()\u001b[0m\n\u001b[1;32m----> 1\u001b[1;33m \u001b[0mcc\u001b[0m\u001b[1;33m.\u001b[0m\u001b[0msubsetProbDist\u001b[0m\u001b[1;33m(\u001b[0m\u001b[1;34m'make'\u001b[0m\u001b[1;33m)\u001b[0m\u001b[1;33m\u001b[0m\u001b[0m\n\u001b[0m",
      "\u001b[1;32m/data/W266/code/w266Final.py\u001b[0m in \u001b[0;36msubsetProbDist\u001b[1;34m(self, word)\u001b[0m\n\u001b[0;32m    662\u001b[0m             \u001b[0mgivens\u001b[0m \u001b[1;33m=\u001b[0m \u001b[0mself\u001b[0m\u001b[1;33m.\u001b[0m\u001b[0mline4\u001b[0m\u001b[1;33m[\u001b[0m\u001b[1;33m-\u001b[0m\u001b[1;36m2\u001b[0m\u001b[1;33m:\u001b[0m\u001b[1;33m]\u001b[0m\u001b[1;33m\u001b[0m\u001b[0m\n\u001b[0;32m    663\u001b[0m             \u001b[0mrhymingWords\u001b[0m \u001b[1;33m=\u001b[0m \u001b[0mset\u001b[0m\u001b[1;33m(\u001b[0m\u001b[0mpronouncing\u001b[0m\u001b[1;33m.\u001b[0m\u001b[0mrhymes\u001b[0m\u001b[1;33m(\u001b[0m\u001b[0mword\u001b[0m\u001b[1;33m)\u001b[0m\u001b[1;33m)\u001b[0m \u001b[1;31m# words that rhyme with line2 end word\u001b[0m\u001b[1;33m\u001b[0m\u001b[0m\n\u001b[1;32m--> 664\u001b[1;33m             \u001b[0mtrigramRhymeWords\u001b[0m \u001b[1;33m=\u001b[0m \u001b[0mset\u001b[0m\u001b[1;33m(\u001b[0m\u001b[0mself\u001b[0m\u001b[1;33m.\u001b[0m\u001b[0mtrigramPD\u001b[0m\u001b[1;33m[\u001b[0m\u001b[0mgivens\u001b[0m\u001b[1;33m]\u001b[0m\u001b[1;33m.\u001b[0m\u001b[0msamples\u001b[0m\u001b[1;33m(\u001b[0m\u001b[1;33m)\u001b[0m\u001b[1;33m)\u001b[0m  \u001b[1;31m# a list of words with same line4 givens\u001b[0m\u001b[1;33m\u001b[0m\u001b[0m\n\u001b[0m\u001b[0;32m    665\u001b[0m             \u001b[0mtrigramMatches\u001b[0m \u001b[1;33m=\u001b[0m \u001b[0mrhymingWords\u001b[0m\u001b[1;33m.\u001b[0m\u001b[0mintersection\u001b[0m\u001b[1;33m(\u001b[0m\u001b[0mtrigramRhymeWords\u001b[0m\u001b[1;33m)\u001b[0m\u001b[1;33m\u001b[0m\u001b[0m\n\u001b[0;32m    666\u001b[0m \u001b[1;33m\u001b[0m\u001b[0m\n",
      "\u001b[1;31mTypeError\u001b[0m: unhashable type: 'list'"
     ]
    }
   ],
   "source": [
    "cc.subsetProbDist('make')\n"
   ]
  },
  {
   "cell_type": "code",
   "execution_count": 67,
   "metadata": {
    "collapsed": false
   },
   "outputs": [
    {
     "name": "stdout",
     "output_type": "stream",
     "text": [
      "don't my gal had the blues\n",
      "\t\tdon't you weep don't you make\n",
      "me stay oh the man that\n",
      "\t\tdon't do i'm going to\n"
     ]
    }
   ],
   "source": [
    "print cc"
   ]
  },
  {
   "cell_type": "code",
   "execution_count": 1,
   "metadata": {
    "collapsed": false
   },
   "outputs": [
    {
     "name": "stdout",
     "output_type": "stream",
     "text": [
      "('corpus length:', 1227760)\n"
     ]
    }
   ],
   "source": [
    "pathRoot = '/data/W266/data/'\n",
    "path = pathRoot + 'songsTextAll.txt'\n",
    "\n",
    "text = open(path).read().lower()\n",
    "print('corpus length:', len(text))"
   ]
  },
  {
   "cell_type": "code",
   "execution_count": 4,
   "metadata": {
    "collapsed": false
   },
   "outputs": [
    {
     "data": {
      "text/plain": [
       "6722"
      ]
     },
     "execution_count": 4,
     "metadata": {},
     "output_type": "execute_result"
    }
   ],
   "source": [
    "len(set(text.split()))"
   ]
  },
  {
   "cell_type": "code",
   "execution_count": 9,
   "metadata": {
    "collapsed": false
   },
   "outputs": [
    {
     "data": {
      "text/plain": [
       "150514"
      ]
     },
     "execution_count": 9,
     "metadata": {},
     "output_type": "execute_result"
    }
   ],
   "source": [
    "import nltk\n",
    "len(set(list(nltk.trigrams(text.split()))))"
   ]
  },
  {
   "cell_type": "code",
   "execution_count": null,
   "metadata": {
    "collapsed": true
   },
   "outputs": [],
   "source": []
  }
 ],
 "metadata": {
  "kernelspec": {
   "display_name": "Python [Root]",
   "language": "python",
   "name": "Python [Root]"
  },
  "language_info": {
   "codemirror_mode": {
    "name": "ipython",
    "version": 2
   },
   "file_extension": ".py",
   "mimetype": "text/x-python",
   "name": "python",
   "nbconvert_exporter": "python",
   "pygments_lexer": "ipython2",
   "version": "2.7.12"
  }
 },
 "nbformat": 4,
 "nbformat_minor": 0
}
