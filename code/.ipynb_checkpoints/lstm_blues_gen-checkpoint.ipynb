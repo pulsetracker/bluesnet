{
 "cells": [
  {
   "cell_type": "code",
   "execution_count": 3,
   "metadata": {
    "collapsed": false
   },
   "outputs": [
    {
     "name": "stderr",
     "output_type": "stream",
     "text": [
      "Using TensorFlow backend.\n"
     ]
    }
   ],
   "source": [
    "#LSTM Blues Generator\n",
    "\n",
    "import w266Final as ww\n",
    "from __future__ import print_function\n",
    "from keras.models import Sequential, load_model\n",
    "from keras.layers import Dense, Activation, Dropout\n",
    "from keras.layers import LSTM\n",
    "from keras.optimizers import RMSprop, SGD\n",
    "from keras.utils.data_utils import get_file\n",
    "from keras.callbacks import ModelCheckpoint\n",
    "import numpy as np\n",
    "import random\n",
    "import sys\n",
    "import os\n",
    "import os.path\n",
    "\n",
    "modelLoc = '/data/W266/results/OneLayer'\n",
    "filename = 'trainedModel-7.hdf5'\n",
    "model = load_model(os.path.join(modelLoc,filename))"
   ]
  },
  {
   "cell_type": "code",
   "execution_count": 3,
   "metadata": {
    "collapsed": false
   },
   "outputs": [],
   "source": [
    "import w266Final as ww\n",
    "#from __future__ import print_function\n",
    "from keras.models import Sequential, load_model\n",
    "from keras.layers import Dense, Activation, Dropout\n",
    "from keras.layers import LSTM\n",
    "from keras.optimizers import RMSprop, SGD\n",
    "from keras.utils.data_utils import get_file\n",
    "from keras.callbacks import ModelCheckpoint\n",
    "import numpy as np\n",
    "import random\n",
    "import sys\n",
    "import os\n",
    "import os.path\n",
    "\n",
    "modelLoc = '/data/W266/results/OneLayer'\n",
    "filename = 'trainedModel-7.hdf5'\n",
    "model = load_model(os.path.join(modelLoc,filename))\n",
    "\n",
    "\n",
    "def sample(preds, temperature=1.0):\n",
    "    # helper function to sample an index from a probability array\n",
    "    preds = np.asarray(preds).astype('float64')\n",
    "    preds = np.log(preds) / temperature\n",
    "    exp_preds = np.exp(preds)\n",
    "    preds = exp_preds / np.sum(exp_preds)\n",
    "    probas = np.random.multinomial(1, preds, 1)\n",
    "    return np.argmax(probas)\n",
    "\n",
    "def genBluesCharacters(n=400,diversity=0.5, seed='so long and thanks for all the fish'):\n",
    "        \"\"\"\n",
    "        diversity in (0,1)--how much variation when generating text\n",
    "        n -- how many characters to generate\n",
    "        seed -- starting text\n",
    "        \n",
    "        \"\"\"\n",
    "        \n",
    "\n",
    "\n",
    "        maxlen=100\n",
    "        chars = ['\\t', '\\n', ' ', \"'\", ',', '-', '?', '[', ']', 'a', 'b', 'c', 'd', 'e', 'f', 'g', 'h', 'i', 'j', 'k', 'l', 'm', 'n', 'o', 'p', 'q', 'r', 's', 't', 'u', 'v', 'w', 'x', 'y', 'z']\n",
    "        char_indices = dict((c, i) for i, c in enumerate(chars))\n",
    "        indices_char = dict((i, c) for i, c in enumerate(chars))\n",
    "        print('\\n\\nBluesnet activated. ')\n",
    "        print('----- diversity:', diversity)\n",
    "        print('----- Generating with seed: \"' + seed + '\"')\n",
    "        print('\\n*****************************************************************\\n')\n",
    "        \n",
    "        output = seed\n",
    "        generated = ''\n",
    "        generated += seed\n",
    "        sys.stdout.write(generated)\n",
    "\n",
    "        for i in range(n):\n",
    "            x = np.zeros((1, maxlen, len(chars)))\n",
    "            for t, char in enumerate(output):\n",
    "                x[0, t, char_indices[char]] = 1.\n",
    "\n",
    "            preds = model.predict(x, verbose=0)[0]\n",
    "            next_index = sample(preds, diversity)\n",
    "            next_char = indices_char[next_index]\n",
    "\n",
    "            generated += next_char\n",
    "            output = output[1:] + next_char\n",
    "\n",
    "            sys.stdout.write(next_char)\n",
    "            sys.stdout.flush()\n",
    "\n",
    "        return generated\n",
    "        \n"
   ]
  },
  {
   "cell_type": "code",
   "execution_count": 45,
   "metadata": {
    "collapsed": false
   },
   "outputs": [
    {
     "name": "stdout",
     "output_type": "stream",
     "text": [
      "1\n"
     ]
    }
   ],
   "source": [
    "#genBluesCharacters(seed='since my')\n",
    "#model.predict(np.array([1,2,3]))\n",
    "seed='so long and thanks for all the fish'\n",
    "output = seed\n",
    "generated = ''\n",
    "maxlen=100\n",
    "chars = ['\\t', '\\n', ' ', \"'\", ',', '-', '?', '[', ']', 'a', 'b', 'c', 'd', 'e', 'f', 'g', 'h', 'i', 'j', 'k', 'l', 'm', 'n', 'o', 'p', 'q', 'r', 's', 't', 'u', 'v', 'w', 'x', 'y', 'z']\n",
    "char_indices = dict((c, i) for i, c in enumerate(chars))\n",
    "indices_char = dict((i, c) for i, c in enumerate(chars))\n",
    "\n",
    "x = np.zeros((1, maxlen, len(chars)))\n",
    "for t, char in enumerate(output):\n",
    "    x[0, t, char_indices[char]] = 1.\n",
    "\n",
    "\n",
    "preds = model.predict(x, verbose=0)[0]\n",
    "next_index = sample(preds, 0.2)\n",
    "#print next_index\n",
    "next_char = indices_char[next_index]\n",
    "print next_index\n",
    "generated += next_char\n",
    "output = output[1:] + next_char"
   ]
  },
  {
   "cell_type": "code",
   "execution_count": 72,
   "metadata": {
    "collapsed": false
   },
   "outputs": [
    {
     "name": "stdout",
     "output_type": "stream",
     "text": [
      "\n",
      "\n",
      "Bluesnet activated. \n",
      "('----- diversity:', 0.7)\n",
      "----- Generating with seed: \"e lived was a microscopic dot on a microscopic dot lost in the unimaginable infinity of the universe\"\n",
      "\n",
      "*****************************************************************\n",
      "\n",
      "e lived was a microscopic dot on a microscopic dot lost in the unimaginable infinity of the universe"
     ]
    },
    {
     "name": "stderr",
     "output_type": "stream",
     "text": [
      "/data/jameshome/anaconda2/lib/python2.7/site-packages/ipykernel/__main__.py:23: RuntimeWarning: divide by zero encountered in log\n"
     ]
    },
    {
     "name": "stdout",
     "output_type": "stream",
     "text": [
      "e lived was a microscopic dot on a microscopic dot lost in the unimaginable infinity of the universer \n",
      "\t until i'm legesallime \n",
      "\t would don't want you down\n",
      "\n",
      "i'm look some pelcost burritbrough \n",
      " before ain't this mothatherned \n",
      "\t now she storling to throng \n",
      "\t what i was blues done \n",
      "\t when i have a blues \n",
      "\t whender feeling all look \n",
      "\t some dadays not me \n",
      "\t thirrise to be has in my could \n",
      "\t just and i stear me \n",
      "\t and blues on wall \n",
      " she think and so moon\n",
      "\n",
      "i'm a full me a day \n",
      "\t she as a stay around \n",
      "\t how just try to always \n",
      "\t the starling bothangs \n",
      "\t papa don't tell on \n",
      " and take town in me \n",
      "\t but before all you look \n",
      "\t i'm ep and down \n",
      " she long stay of stay\n",
      "\n",
      " and you never lay \n",
      " i'm down and look \n",
      " that's untir come no more \n",
      "\t down lateen away \n",
      "\t a stat in this pough \n",
      " i ourle with the lovi\n"
     ]
    }
   ],
   "source": [
    "words='He was wrong to think he could now forget that the big, hard, oily, dirty, rainbow-hung Earth on which he lived was a microscopic dot on a microscopic dot lost in the unimaginable infinity of the Universe'.lower() \n",
    "song = genBluesCharacters(n= 700, diversity = 0.7,seed=words[-100:])\n",
    "\n"
   ]
  },
  {
   "cell_type": "code",
   "execution_count": 27,
   "metadata": {
    "collapsed": false
   },
   "outputs": [
    {
     "name": "stdout",
     "output_type": "stream",
     "text": [
      "('corpus length:', 1227760)\n",
      "('Total number of Characters in Corpus:', 35)\n"
     ]
    }
   ],
   "source": [
    "pathRoot = '/data/W266/data/'\n",
    "path = pathRoot + 'songsTextAll.txt'\n",
    "#path = '/data/W266/data/songsAndHHG.txt'\n",
    "#path = '/data/W266/data/songsAndUHHG.txt'\n",
    "\n",
    "\n",
    "text = open(path).read().lower()\n",
    "print('corpus length:', len(text))\n",
    "\n",
    "chars = sorted(list(set(text))) # All characters from the corpus\n",
    "print('Total number of Characters in Corpus:', len(chars))\n",
    "\n",
    "char_indices = dict((c, i) for i, c in enumerate(chars))\n",
    "indices_char = dict((i, c) for i, c in enumerate(chars))"
   ]
  },
  {
   "cell_type": "code",
   "execution_count": 59,
   "metadata": {
    "collapsed": false
   },
   "outputs": [],
   "source": [
    "pathRoot = '/data/W266/data/'\n",
    "path = pathRoot + 'songsTextAll.txt'\n",
    "text = open(path).read().lower()"
   ]
  },
  {
   "cell_type": "code",
   "execution_count": 75,
   "metadata": {
    "collapsed": false
   },
   "outputs": [],
   "source": [
    "song='''e lived was a microscopic dot on a microscopic dot lost in the unimaginable infinity of the universer \n",
    "\t until i'm legesallime \n",
    "\t would don't want you down\n",
    "\n",
    "i'm look some pelcost burritbrough \n",
    " before ain't this mothatherned \n",
    "\t now she storling to throng \n",
    "\t what i was blues done \n",
    "\t when i have a blues \n",
    "\t whender feeling all look \n",
    "\t some dadays not me \n",
    "\t thirrise to be has in my could \n",
    "\t just and i stear me \n",
    "\t and blues on wall \n",
    " she think and so moon\n",
    "\n",
    "i'm a full me a day \n",
    "\t she as a stay around \n",
    "\t how just try to always \n",
    "\t the starling bothangs \n",
    "\t papa don't tell on \n",
    " and take town in me \n",
    "\t but before all you look \n",
    "\t i'm ep and down \n",
    " she long stay of stay\n",
    "\n",
    " and you never lay \n",
    " i'm down and look \n",
    " that's untir come no more \n",
    "\t down lateen away \n",
    "\t a stat in this pough \n",
    " i ourle with the lovi\n",
    " '''\n",
    "\n"
   ]
  },
  {
   "cell_type": "code",
   "execution_count": 50,
   "metadata": {
    "collapsed": false
   },
   "outputs": [
    {
     "name": "stdout",
     "output_type": "stream",
     "text": [
      "Tensor(\"lstm_1_W_c_1/read:0\", shape=(35, 64), dtype=float32)\n"
     ]
    }
   ],
   "source": []
  },
  {
   "cell_type": "code",
   "execution_count": 51,
   "metadata": {
    "collapsed": false
   },
   "outputs": [
    {
     "name": "stdout",
     "output_type": "stream",
     "text": [
      "1/1 [==============================] - 0s\n"
     ]
    }
   ],
   "source": [
    "preds = model.predict(x, verbose=1)"
   ]
  },
  {
   "cell_type": "code",
   "execution_count": 55,
   "metadata": {
    "collapsed": false
   },
   "outputs": [
    {
     "name": "stdout",
     "output_type": "stream",
     "text": [
      "0.997265\n",
      "[  3.45180933e-06   9.97265220e-01   7.39044335e-05   1.42765472e-07\n",
      "   3.03136336e-16   1.43740790e-05   1.04378705e-06   1.21874386e-12\n",
      "   1.38095244e-15   3.85911117e-05   2.92008219e-04   2.24129719e-04\n",
      "   2.02492825e-04   5.89275915e-05   2.24119038e-04   7.63292046e-05\n",
      "   3.74486226e-05   3.16620353e-05   8.03676448e-06   2.01324128e-05\n",
      "   1.31366352e-04   2.83883128e-04   2.84162379e-04   1.10535926e-04\n",
      "   7.33582565e-05   5.03774663e-06   1.18187505e-04   1.11347959e-04\n",
      "   8.18148837e-05   1.45525619e-05   1.39491849e-05   1.64792946e-04\n",
      "   1.70163855e-06   3.27077469e-05   6.88662681e-07]\n"
     ]
    }
   ],
   "source": [
    "print(max(preds[0]))\n",
    "print(preds[0])\n"
   ]
  },
  {
   "cell_type": "code",
   "execution_count": 58,
   "metadata": {
    "collapsed": false
   },
   "outputs": [
    {
     "data": {
      "text/plain": [
       "1"
      ]
     },
     "execution_count": 58,
     "metadata": {},
     "output_type": "execute_result"
    }
   ],
   "source": [
    "sample(preds[0])"
   ]
  },
  {
   "cell_type": "code",
   "execution_count": null,
   "metadata": {
    "collapsed": true
   },
   "outputs": [],
   "source": []
  },
  {
   "cell_type": "code",
   "execution_count": null,
   "metadata": {
    "collapsed": true
   },
   "outputs": [],
   "source": []
  }
 ],
 "metadata": {
  "kernelspec": {
   "display_name": "Python [Root]",
   "language": "python",
   "name": "Python [Root]"
  },
  "language_info": {
   "codemirror_mode": {
    "name": "ipython",
    "version": 2
   },
   "file_extension": ".py",
   "mimetype": "text/x-python",
   "name": "python",
   "nbconvert_exporter": "python",
   "pygments_lexer": "ipython2",
   "version": "2.7.12"
  }
 },
 "nbformat": 4,
 "nbformat_minor": 0
}
